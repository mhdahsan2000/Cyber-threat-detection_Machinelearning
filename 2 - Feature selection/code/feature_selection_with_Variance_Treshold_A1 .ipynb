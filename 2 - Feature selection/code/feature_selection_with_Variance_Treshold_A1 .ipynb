{
 "cells": [
  {
   "cell_type": "markdown",
   "id": "4cafc271",
   "metadata": {},
   "source": [
    "This code is submitted as part of project 2 for the subject COMP90037 (Security Analytics) at the University of  Melbourne .\n",
    "     \n",
    "    -------------------------------------------\n",
    "    COMP90037 Security Analytics - Project 2 \n",
    "    Machine learning based Threat detection\n",
    "\n",
    "    Author : Mohammed Ahsan Kollathodi \n",
    "    Student id: 1048942.\n",
    "    "
   ]
  },
  {
   "cell_type": "code",
   "execution_count": 2,
   "id": "cf6acd19",
   "metadata": {},
   "outputs": [],
   "source": [
    "import pandas as pd\n",
    "import matplotlib.pyplot as plt\n",
    "from sklearn.feature_selection import VarianceThreshold "
   ]
  },
  {
   "cell_type": "markdown",
   "id": "c2e2e780",
   "metadata": {},
   "source": [
    "#### The primary aim through this code is to perfrom feature selection with the Variance threshold classifier and method and save the selected features in a CSV."
   ]
  },
  {
   "cell_type": "markdown",
   "id": "a1016fcb",
   "metadata": {},
   "source": [
    "### Train data "
   ]
  },
  {
   "cell_type": "markdown",
   "id": "6d030532",
   "metadata": {},
   "source": [
    "Feature selection is process of choosing a subset of the most \n",
    "important features while trying to retain as much information\n",
    "as possible. \n",
    "\n",
    "The Variance treshold method for feature selection is primarily \n",
    "based on the idea that low variance features would consist of \n",
    "very less amount of information. Here we calculate the variance \n",
    "of each feature and then drop the features with low variance \n",
    "that are below some threshold. \n",
    "\n",
    "It would remove all of the features where the variance doesn't\n",
    "meet certain treshold. By default, it would remove all \n",
    "of the zero variance features, or it can be features which\n",
    "has the uniform value in all of the samples. \n",
    "\n",
    "\n",
    "\n",
    "reference : \n",
    "https://chrisalbon.com/code/machine_learning/feature_selection/variance_thresholding_for_feature_selection/\n",
    "\n",
    "https://towardsdatascience.com/how-to-use-variance-thresholding-for-robust-feature-selection-a4503f2b5c3f\n"
   ]
  },
  {
   "cell_type": "code",
   "execution_count": 4,
   "id": "04cfe03c",
   "metadata": {},
   "outputs": [],
   "source": [
    "df_train = pd.read_csv('train_data_of_A1.csv', sep=',')"
   ]
  },
  {
   "cell_type": "code",
   "execution_count": null,
   "id": "3e972634",
   "metadata": {},
   "outputs": [],
   "source": [
    "\"\"\"\n",
    "The test and training dataset were pre-processed or cleaned initially to remove any noise \n",
    "or irregularities in the data.\n",
    "\"\"\""
   ]
  },
  {
   "cell_type": "code",
   "execution_count": 5,
   "id": "1cdfb1c4",
   "metadata": {},
   "outputs": [
    {
     "data": {
      "text/plain": [
       "num_total_packets     1.000001e+00\n",
       "total_bytes           1.000001e+00\n",
       "src_bytes             1.000001e+00\n",
       "packets_in_Sec        1.000001e+00\n",
       "bytes_total_in_Sec    1.000001e+00\n",
       "Source_Bytes_Sec      1.000001e+00\n",
       "protocol              3.850838e+00\n",
       "src_ip                5.949138e+08\n",
       "src_port              3.578791e+08\n",
       "direction             9.869679e-01\n",
       "dst_ip                5.945149e+08\n",
       "dst_port              3.524686e+08\n",
       "state                 1.033005e+04\n",
       "srctype_service       3.760072e-01\n",
       "dsttype_service       1.950387e+00\n",
       "dtype: float64"
      ]
     },
     "execution_count": 5,
     "metadata": {},
     "output_type": "execute_result"
    }
   ],
   "source": [
    "df_train.var()  # TO COMPUTE THE STANDARD DEVIATION FOR EACH COLUMN."
   ]
  },
  {
   "cell_type": "code",
   "execution_count": 6,
   "id": "bd3fb98f",
   "metadata": {},
   "outputs": [],
   "source": [
    "# Define variance treshold value. \n",
    "V_treshold = VarianceThreshold(0.9)"
   ]
  },
  {
   "cell_type": "code",
   "execution_count": 7,
   "id": "a0cb9b73",
   "metadata": {},
   "outputs": [
    {
     "data": {
      "text/plain": [
       "VarianceThreshold(threshold=0.9)"
      ]
     },
     "execution_count": 7,
     "metadata": {},
     "output_type": "execute_result"
    }
   ],
   "source": [
    "# FIT the training sample on to the model or classifier. \n",
    "V_treshold.fit(df_train)"
   ]
  },
  {
   "cell_type": "code",
   "execution_count": 8,
   "id": "94041aba",
   "metadata": {},
   "outputs": [
    {
     "data": {
      "text/plain": [
       "array([ True,  True,  True,  True,  True,  True,  True,  True,  True,\n",
       "        True,  True,  True,  True, False,  True])"
      ]
     },
     "execution_count": 8,
     "metadata": {},
     "output_type": "execute_result"
    }
   ],
   "source": [
    "V_treshold.get_support()   # To get a mask or the integer index of the features selected. "
   ]
  },
  {
   "cell_type": "code",
   "execution_count": 13,
   "id": "e72c43f6",
   "metadata": {},
   "outputs": [],
   "source": [
    "\"\"\"\n",
    "Transform the input raw data according to the model. \n",
    "The features within the training set with a variance lower than \n",
    "the specified treshold will be removed. \n",
    "\"\"\"\n",
    "V_treshold_raw_train = V_treshold.transform(df_train)  # Trasform the data according to the model"
   ]
  },
  {
   "cell_type": "code",
   "execution_count": 14,
   "id": "f8f55d98",
   "metadata": {},
   "outputs": [],
   "source": [
    "names_column = df_train.columns[V_treshold.get_support()].values"
   ]
  },
  {
   "cell_type": "code",
   "execution_count": 15,
   "id": "3b95fb98",
   "metadata": {},
   "outputs": [],
   "source": [
    "V_train =  pd.DataFrame(data = V_treshold_raw_train, columns = names_column)"
   ]
  },
  {
   "cell_type": "code",
   "execution_count": 16,
   "id": "091b65ce",
   "metadata": {},
   "outputs": [
    {
     "data": {
      "text/html": [
       "<div>\n",
       "<style scoped>\n",
       "    .dataframe tbody tr th:only-of-type {\n",
       "        vertical-align: middle;\n",
       "    }\n",
       "\n",
       "    .dataframe tbody tr th {\n",
       "        vertical-align: top;\n",
       "    }\n",
       "\n",
       "    .dataframe thead th {\n",
       "        text-align: right;\n",
       "    }\n",
       "</style>\n",
       "<table border=\"1\" class=\"dataframe\">\n",
       "  <thead>\n",
       "    <tr style=\"text-align: right;\">\n",
       "      <th></th>\n",
       "      <th>num_total_packets</th>\n",
       "      <th>total_bytes</th>\n",
       "      <th>src_bytes</th>\n",
       "      <th>packets_in_Sec</th>\n",
       "      <th>bytes_total_in_Sec</th>\n",
       "      <th>Source_Bytes_Sec</th>\n",
       "      <th>protocol</th>\n",
       "      <th>src_ip</th>\n",
       "      <th>src_port</th>\n",
       "      <th>direction</th>\n",
       "      <th>dst_ip</th>\n",
       "      <th>dst_port</th>\n",
       "      <th>state</th>\n",
       "      <th>dsttype_service</th>\n",
       "    </tr>\n",
       "  </thead>\n",
       "  <tbody>\n",
       "    <tr>\n",
       "      <th>0</th>\n",
       "      <td>-0.011855</td>\n",
       "      <td>-0.011502</td>\n",
       "      <td>-0.006085</td>\n",
       "      <td>-0.009940</td>\n",
       "      <td>-0.057686</td>\n",
       "      <td>0.005116</td>\n",
       "      <td>8.0</td>\n",
       "      <td>46986.0</td>\n",
       "      <td>25937.0</td>\n",
       "      <td>6.0</td>\n",
       "      <td>42900.0</td>\n",
       "      <td>15542.0</td>\n",
       "      <td>69.0</td>\n",
       "      <td>0.0</td>\n",
       "    </tr>\n",
       "    <tr>\n",
       "      <th>1</th>\n",
       "      <td>0.097927</td>\n",
       "      <td>0.011758</td>\n",
       "      <td>0.018442</td>\n",
       "      <td>-0.164602</td>\n",
       "      <td>-0.127541</td>\n",
       "      <td>-0.045789</td>\n",
       "      <td>8.0</td>\n",
       "      <td>46986.0</td>\n",
       "      <td>35462.0</td>\n",
       "      <td>8.0</td>\n",
       "      <td>22164.0</td>\n",
       "      <td>58516.0</td>\n",
       "      <td>170.0</td>\n",
       "      <td>0.0</td>\n",
       "    </tr>\n",
       "    <tr>\n",
       "      <th>2</th>\n",
       "      <td>1.934192</td>\n",
       "      <td>0.468640</td>\n",
       "      <td>1.468779</td>\n",
       "      <td>-0.163396</td>\n",
       "      <td>-0.126357</td>\n",
       "      <td>-0.044450</td>\n",
       "      <td>9.0</td>\n",
       "      <td>47020.0</td>\n",
       "      <td>23255.0</td>\n",
       "      <td>8.0</td>\n",
       "      <td>23896.0</td>\n",
       "      <td>39465.0</td>\n",
       "      <td>16.0</td>\n",
       "      <td>0.0</td>\n",
       "    </tr>\n",
       "    <tr>\n",
       "      <th>3</th>\n",
       "      <td>-0.012677</td>\n",
       "      <td>-0.011578</td>\n",
       "      <td>-0.006190</td>\n",
       "      <td>-0.164696</td>\n",
       "      <td>-0.127552</td>\n",
       "      <td>-0.045794</td>\n",
       "      <td>2.0</td>\n",
       "      <td>46790.0</td>\n",
       "      <td>62779.0</td>\n",
       "      <td>6.0</td>\n",
       "      <td>80493.0</td>\n",
       "      <td>23018.0</td>\n",
       "      <td>325.0</td>\n",
       "      <td>4.0</td>\n",
       "    </tr>\n",
       "    <tr>\n",
       "      <th>4</th>\n",
       "      <td>12.183318</td>\n",
       "      <td>5.892219</td>\n",
       "      <td>15.613691</td>\n",
       "      <td>-0.160947</td>\n",
       "      <td>-0.120492</td>\n",
       "      <td>-0.038956</td>\n",
       "      <td>8.0</td>\n",
       "      <td>70245.0</td>\n",
       "      <td>48066.0</td>\n",
       "      <td>6.0</td>\n",
       "      <td>22770.0</td>\n",
       "      <td>38021.0</td>\n",
       "      <td>196.0</td>\n",
       "      <td>0.0</td>\n",
       "    </tr>\n",
       "    <tr>\n",
       "      <th>5</th>\n",
       "      <td>-0.011443</td>\n",
       "      <td>-0.011332</td>\n",
       "      <td>-0.005779</td>\n",
       "      <td>-0.156349</td>\n",
       "      <td>-0.120999</td>\n",
       "      <td>-0.041296</td>\n",
       "      <td>8.0</td>\n",
       "      <td>46884.0</td>\n",
       "      <td>20263.0</td>\n",
       "      <td>6.0</td>\n",
       "      <td>100356.0</td>\n",
       "      <td>56795.0</td>\n",
       "      <td>44.0</td>\n",
       "      <td>0.0</td>\n",
       "    </tr>\n",
       "    <tr>\n",
       "      <th>6</th>\n",
       "      <td>20.508599</td>\n",
       "      <td>15.245667</td>\n",
       "      <td>45.198862</td>\n",
       "      <td>-0.162353</td>\n",
       "      <td>-0.120866</td>\n",
       "      <td>-0.038542</td>\n",
       "      <td>8.0</td>\n",
       "      <td>46769.0</td>\n",
       "      <td>63086.0</td>\n",
       "      <td>6.0</td>\n",
       "      <td>22746.0</td>\n",
       "      <td>46879.0</td>\n",
       "      <td>161.0</td>\n",
       "      <td>0.0</td>\n",
       "    </tr>\n",
       "    <tr>\n",
       "      <th>7</th>\n",
       "      <td>23.010747</td>\n",
       "      <td>22.310390</td>\n",
       "      <td>2.240795</td>\n",
       "      <td>-0.162089</td>\n",
       "      <td>-0.117815</td>\n",
       "      <td>-0.045434</td>\n",
       "      <td>8.0</td>\n",
       "      <td>46986.0</td>\n",
       "      <td>42934.0</td>\n",
       "      <td>8.0</td>\n",
       "      <td>38144.0</td>\n",
       "      <td>56792.0</td>\n",
       "      <td>8.0</td>\n",
       "      <td>0.0</td>\n",
       "    </tr>\n",
       "    <tr>\n",
       "      <th>8</th>\n",
       "      <td>0.000686</td>\n",
       "      <td>-0.009998</td>\n",
       "      <td>-0.003803</td>\n",
       "      <td>-0.164611</td>\n",
       "      <td>-0.127550</td>\n",
       "      <td>-0.045792</td>\n",
       "      <td>8.0</td>\n",
       "      <td>46857.0</td>\n",
       "      <td>3724.0</td>\n",
       "      <td>6.0</td>\n",
       "      <td>16103.0</td>\n",
       "      <td>6090.0</td>\n",
       "      <td>170.0</td>\n",
       "      <td>0.0</td>\n",
       "    </tr>\n",
       "    <tr>\n",
       "      <th>9</th>\n",
       "      <td>0.005620</td>\n",
       "      <td>-0.003845</td>\n",
       "      <td>0.008845</td>\n",
       "      <td>-0.164272</td>\n",
       "      <td>-0.126979</td>\n",
       "      <td>-0.045385</td>\n",
       "      <td>8.0</td>\n",
       "      <td>74504.0</td>\n",
       "      <td>42921.0</td>\n",
       "      <td>6.0</td>\n",
       "      <td>22295.0</td>\n",
       "      <td>56873.0</td>\n",
       "      <td>40.0</td>\n",
       "      <td>0.0</td>\n",
       "    </tr>\n",
       "  </tbody>\n",
       "</table>\n",
       "</div>"
      ],
      "text/plain": [
       "   num_total_packets  total_bytes  src_bytes  packets_in_Sec  \\\n",
       "0          -0.011855    -0.011502  -0.006085       -0.009940   \n",
       "1           0.097927     0.011758   0.018442       -0.164602   \n",
       "2           1.934192     0.468640   1.468779       -0.163396   \n",
       "3          -0.012677    -0.011578  -0.006190       -0.164696   \n",
       "4          12.183318     5.892219  15.613691       -0.160947   \n",
       "5          -0.011443    -0.011332  -0.005779       -0.156349   \n",
       "6          20.508599    15.245667  45.198862       -0.162353   \n",
       "7          23.010747    22.310390   2.240795       -0.162089   \n",
       "8           0.000686    -0.009998  -0.003803       -0.164611   \n",
       "9           0.005620    -0.003845   0.008845       -0.164272   \n",
       "\n",
       "   bytes_total_in_Sec  Source_Bytes_Sec  protocol   src_ip  src_port  \\\n",
       "0           -0.057686          0.005116       8.0  46986.0   25937.0   \n",
       "1           -0.127541         -0.045789       8.0  46986.0   35462.0   \n",
       "2           -0.126357         -0.044450       9.0  47020.0   23255.0   \n",
       "3           -0.127552         -0.045794       2.0  46790.0   62779.0   \n",
       "4           -0.120492         -0.038956       8.0  70245.0   48066.0   \n",
       "5           -0.120999         -0.041296       8.0  46884.0   20263.0   \n",
       "6           -0.120866         -0.038542       8.0  46769.0   63086.0   \n",
       "7           -0.117815         -0.045434       8.0  46986.0   42934.0   \n",
       "8           -0.127550         -0.045792       8.0  46857.0    3724.0   \n",
       "9           -0.126979         -0.045385       8.0  74504.0   42921.0   \n",
       "\n",
       "   direction    dst_ip  dst_port  state  dsttype_service  \n",
       "0        6.0   42900.0   15542.0   69.0              0.0  \n",
       "1        8.0   22164.0   58516.0  170.0              0.0  \n",
       "2        8.0   23896.0   39465.0   16.0              0.0  \n",
       "3        6.0   80493.0   23018.0  325.0              4.0  \n",
       "4        6.0   22770.0   38021.0  196.0              0.0  \n",
       "5        6.0  100356.0   56795.0   44.0              0.0  \n",
       "6        6.0   22746.0   46879.0  161.0              0.0  \n",
       "7        8.0   38144.0   56792.0    8.0              0.0  \n",
       "8        6.0   16103.0    6090.0  170.0              0.0  \n",
       "9        6.0   22295.0   56873.0   40.0              0.0  "
      ]
     },
     "execution_count": 16,
     "metadata": {},
     "output_type": "execute_result"
    }
   ],
   "source": [
    "V_train.head(10)"
   ]
  },
  {
   "cell_type": "code",
   "execution_count": 18,
   "id": "54232cf1",
   "metadata": {},
   "outputs": [],
   "source": [
    "# save the file as CSV. \n",
    "V_train.to_csv('train_data_VT_A1.csv', sep=',', index=False)"
   ]
  },
  {
   "cell_type": "markdown",
   "id": "f9636157",
   "metadata": {},
   "source": [
    "### Test data."
   ]
  },
  {
   "cell_type": "code",
   "execution_count": 20,
   "id": "2674671a",
   "metadata": {},
   "outputs": [],
   "source": [
    "df_test = pd.read_csv('test_data_of_A1.csv', sep=',')"
   ]
  },
  {
   "cell_type": "code",
   "execution_count": 23,
   "id": "7b64407b",
   "metadata": {},
   "outputs": [
    {
     "data": {
      "text/plain": [
       "'\\nThe test and training dataset were pre-processed or cleaned initially to remove any noise \\nor irregularities in the data.\\n'"
      ]
     },
     "execution_count": 23,
     "metadata": {},
     "output_type": "execute_result"
    }
   ],
   "source": [
    "\"\"\"\n",
    "The test and training dataset were pre-processed or cleaned initially to remove any noise \n",
    "or irregularities in the data.\n",
    "\"\"\""
   ]
  },
  {
   "cell_type": "code",
   "execution_count": 22,
   "id": "2833a8db",
   "metadata": {},
   "outputs": [],
   "source": [
    "# Transform the raw test data. \n",
    "test_raw_V = V_treshold.transform(df_test)"
   ]
  },
  {
   "cell_type": "code",
   "execution_count": 24,
   "id": "6942cf8f",
   "metadata": {},
   "outputs": [],
   "source": [
    "# Produce dataframe with transformed values.\n",
    "V_test = pd.DataFrame(data = test_raw_V , columns = names_column)"
   ]
  },
  {
   "cell_type": "code",
   "execution_count": 25,
   "id": "0b82985e",
   "metadata": {},
   "outputs": [
    {
     "data": {
      "text/html": [
       "<div>\n",
       "<style scoped>\n",
       "    .dataframe tbody tr th:only-of-type {\n",
       "        vertical-align: middle;\n",
       "    }\n",
       "\n",
       "    .dataframe tbody tr th {\n",
       "        vertical-align: top;\n",
       "    }\n",
       "\n",
       "    .dataframe thead th {\n",
       "        text-align: right;\n",
       "    }\n",
       "</style>\n",
       "<table border=\"1\" class=\"dataframe\">\n",
       "  <thead>\n",
       "    <tr style=\"text-align: right;\">\n",
       "      <th></th>\n",
       "      <th>num_total_packets</th>\n",
       "      <th>total_bytes</th>\n",
       "      <th>src_bytes</th>\n",
       "      <th>packets_in_Sec</th>\n",
       "      <th>bytes_total_in_Sec</th>\n",
       "      <th>Source_Bytes_Sec</th>\n",
       "      <th>protocol</th>\n",
       "      <th>src_ip</th>\n",
       "      <th>src_port</th>\n",
       "      <th>direction</th>\n",
       "      <th>dst_ip</th>\n",
       "      <th>dst_port</th>\n",
       "      <th>state</th>\n",
       "      <th>dsttype_service</th>\n",
       "    </tr>\n",
       "  </thead>\n",
       "  <tbody>\n",
       "    <tr>\n",
       "      <th>0</th>\n",
       "      <td>-0.012266</td>\n",
       "      <td>-0.011517</td>\n",
       "      <td>-0.006107</td>\n",
       "      <td>-0.164696</td>\n",
       "      <td>-0.127552</td>\n",
       "      <td>-0.045794</td>\n",
       "      <td>9.0</td>\n",
       "      <td>129295.0</td>\n",
       "      <td>56079.0</td>\n",
       "      <td>3.0</td>\n",
       "      <td>22461.0</td>\n",
       "      <td>53522.0</td>\n",
       "      <td>16.0</td>\n",
       "      <td>0.0</td>\n",
       "    </tr>\n",
       "    <tr>\n",
       "      <th>1</th>\n",
       "      <td>-0.012471</td>\n",
       "      <td>-0.011519</td>\n",
       "      <td>-0.006120</td>\n",
       "      <td>-0.164696</td>\n",
       "      <td>-0.127552</td>\n",
       "      <td>-0.045794</td>\n",
       "      <td>9.0</td>\n",
       "      <td>142254.0</td>\n",
       "      <td>45879.0</td>\n",
       "      <td>3.0</td>\n",
       "      <td>22461.0</td>\n",
       "      <td>53520.0</td>\n",
       "      <td>16.0</td>\n",
       "      <td>0.0</td>\n",
       "    </tr>\n",
       "    <tr>\n",
       "      <th>2</th>\n",
       "      <td>-0.012677</td>\n",
       "      <td>-0.011550</td>\n",
       "      <td>-0.006211</td>\n",
       "      <td>-0.164696</td>\n",
       "      <td>-0.127552</td>\n",
       "      <td>-0.045794</td>\n",
       "      <td>9.0</td>\n",
       "      <td>102654.0</td>\n",
       "      <td>58934.0</td>\n",
       "      <td>3.0</td>\n",
       "      <td>22461.0</td>\n",
       "      <td>53520.0</td>\n",
       "      <td>16.0</td>\n",
       "      <td>0.0</td>\n",
       "    </tr>\n",
       "    <tr>\n",
       "      <th>3</th>\n",
       "      <td>-0.012471</td>\n",
       "      <td>-0.011550</td>\n",
       "      <td>-0.006211</td>\n",
       "      <td>-0.164696</td>\n",
       "      <td>-0.127552</td>\n",
       "      <td>-0.045794</td>\n",
       "      <td>9.0</td>\n",
       "      <td>29182.0</td>\n",
       "      <td>32236.0</td>\n",
       "      <td>3.0</td>\n",
       "      <td>22461.0</td>\n",
       "      <td>53524.0</td>\n",
       "      <td>16.0</td>\n",
       "      <td>0.0</td>\n",
       "    </tr>\n",
       "    <tr>\n",
       "      <th>4</th>\n",
       "      <td>4.870326</td>\n",
       "      <td>5.733420</td>\n",
       "      <td>0.364877</td>\n",
       "      <td>-0.164696</td>\n",
       "      <td>-0.127552</td>\n",
       "      <td>-0.045794</td>\n",
       "      <td>9.0</td>\n",
       "      <td>157870.0</td>\n",
       "      <td>35339.0</td>\n",
       "      <td>3.0</td>\n",
       "      <td>22461.0</td>\n",
       "      <td>32909.0</td>\n",
       "      <td>16.0</td>\n",
       "      <td>0.0</td>\n",
       "    </tr>\n",
       "  </tbody>\n",
       "</table>\n",
       "</div>"
      ],
      "text/plain": [
       "   num_total_packets  total_bytes  src_bytes  packets_in_Sec  \\\n",
       "0          -0.012266    -0.011517  -0.006107       -0.164696   \n",
       "1          -0.012471    -0.011519  -0.006120       -0.164696   \n",
       "2          -0.012677    -0.011550  -0.006211       -0.164696   \n",
       "3          -0.012471    -0.011550  -0.006211       -0.164696   \n",
       "4           4.870326     5.733420   0.364877       -0.164696   \n",
       "\n",
       "   bytes_total_in_Sec  Source_Bytes_Sec  protocol    src_ip  src_port  \\\n",
       "0           -0.127552         -0.045794       9.0  129295.0   56079.0   \n",
       "1           -0.127552         -0.045794       9.0  142254.0   45879.0   \n",
       "2           -0.127552         -0.045794       9.0  102654.0   58934.0   \n",
       "3           -0.127552         -0.045794       9.0   29182.0   32236.0   \n",
       "4           -0.127552         -0.045794       9.0  157870.0   35339.0   \n",
       "\n",
       "   direction   dst_ip  dst_port  state  dsttype_service  \n",
       "0        3.0  22461.0   53522.0   16.0              0.0  \n",
       "1        3.0  22461.0   53520.0   16.0              0.0  \n",
       "2        3.0  22461.0   53520.0   16.0              0.0  \n",
       "3        3.0  22461.0   53524.0   16.0              0.0  \n",
       "4        3.0  22461.0   32909.0   16.0              0.0  "
      ]
     },
     "execution_count": 25,
     "metadata": {},
     "output_type": "execute_result"
    }
   ],
   "source": [
    "V_test.head()"
   ]
  },
  {
   "cell_type": "code",
   "execution_count": 27,
   "id": "b25508ee",
   "metadata": {},
   "outputs": [],
   "source": [
    "# Save as CSV - the selected features with Variance Treshold method.\n",
    "V_test.to_csv('test_data_VT_A1.csv', sep=',', index=False)\n",
    "\n"
   ]
  },
  {
   "cell_type": "code",
   "execution_count": null,
   "id": "a4bb81be",
   "metadata": {},
   "outputs": [],
   "source": []
  }
 ],
 "metadata": {
  "kernelspec": {
   "display_name": "Python 3 (ipykernel)",
   "language": "python",
   "name": "python3"
  },
  "language_info": {
   "codemirror_mode": {
    "name": "ipython",
    "version": 3
   },
   "file_extension": ".py",
   "mimetype": "text/x-python",
   "name": "python",
   "nbconvert_exporter": "python",
   "pygments_lexer": "ipython3",
   "version": "3.8.11"
  }
 },
 "nbformat": 4,
 "nbformat_minor": 5
}
