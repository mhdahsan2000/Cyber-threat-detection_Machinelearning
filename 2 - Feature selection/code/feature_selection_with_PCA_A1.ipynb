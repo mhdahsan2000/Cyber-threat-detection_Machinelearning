{
 "cells": [
  {
   "cell_type": "code",
   "execution_count": 1,
   "id": "895ac86e",
   "metadata": {},
   "outputs": [],
   "source": [
    "import pandas as pd\n",
    "import matplotlib.pyplot as plt\n",
    "from sklearn.decomposition import PCA,IncrementalPCA"
   ]
  },
  {
   "cell_type": "markdown",
   "id": "399c97e2",
   "metadata": {},
   "source": [
    "This code is submitted as part of project 2 for the subject COMP90037 (Security Analytics) at the University of  Melbourne .\n",
    "     \n",
    "    -------------------------------------------\n",
    "    COMP90037 Security Analytics - Project 2 \n",
    "    Machine learning based Threat detection\n",
    "\n",
    "    Author : Mohammed Ahsan Kollathodi \n",
    "    Student id: 1048942.\n",
    "    "
   ]
  },
  {
   "cell_type": "markdown",
   "id": "edbdeb96",
   "metadata": {},
   "source": [
    "#### The principal aim of this code is to perform feature selection with the provided dataset using PCA or principal component Analysis.  "
   ]
  },
  {
   "cell_type": "markdown",
   "id": "22df2ec7",
   "metadata": {},
   "source": [
    "### Train data "
   ]
  },
  {
   "cell_type": "markdown",
   "id": "8fe29d74",
   "metadata": {},
   "source": [
    "The principal Component Analysis or PCA is a dimensionality reduction \n",
    "technique that is often employed to reduce the dimensionality of larger data sets by converting a larger set of variables into a smaller one which would comprise of most information that's present in the larger set. \n",
    "\n",
    "The idea of PCA is simple which is to decrease the number of variables of data set while conserving as much information as possible.\n",
    "\n",
    "Reference : https://builtin.com/data-science/step-step-explanation-principal-component-analysis [Online.]"
   ]
  },
  {
   "cell_type": "code",
   "execution_count": 2,
   "id": "f9babb1a",
   "metadata": {},
   "outputs": [],
   "source": [
    "df_train = pd.read_csv('train_data_of_A1.csv', sep=',')"
   ]
  },
  {
   "cell_type": "code",
   "execution_count": null,
   "id": "cea5bf76",
   "metadata": {},
   "outputs": [],
   "source": [
    "\"\"\"\n",
    "The test and training dataset were pre-processed or cleaned initially to remove any noise \n",
    "or irregularities in the data.\n",
    "\"\"\""
   ]
  },
  {
   "cell_type": "code",
   "execution_count": 3,
   "id": "792feb34",
   "metadata": {},
   "outputs": [
    {
     "data": {
      "text/html": [
       "<div>\n",
       "<style scoped>\n",
       "    .dataframe tbody tr th:only-of-type {\n",
       "        vertical-align: middle;\n",
       "    }\n",
       "\n",
       "    .dataframe tbody tr th {\n",
       "        vertical-align: top;\n",
       "    }\n",
       "\n",
       "    .dataframe thead th {\n",
       "        text-align: right;\n",
       "    }\n",
       "</style>\n",
       "<table border=\"1\" class=\"dataframe\">\n",
       "  <thead>\n",
       "    <tr style=\"text-align: right;\">\n",
       "      <th></th>\n",
       "      <th>num_total_packets</th>\n",
       "      <th>total_bytes</th>\n",
       "      <th>src_bytes</th>\n",
       "      <th>packets_in_Sec</th>\n",
       "      <th>bytes_total_in_Sec</th>\n",
       "      <th>Source_Bytes_Sec</th>\n",
       "      <th>protocol</th>\n",
       "      <th>src_ip</th>\n",
       "      <th>src_port</th>\n",
       "      <th>direction</th>\n",
       "      <th>dst_ip</th>\n",
       "      <th>dst_port</th>\n",
       "      <th>state</th>\n",
       "      <th>srctype_service</th>\n",
       "      <th>dsttype_service</th>\n",
       "    </tr>\n",
       "  </thead>\n",
       "  <tbody>\n",
       "    <tr>\n",
       "      <th>0</th>\n",
       "      <td>-0.011855</td>\n",
       "      <td>-0.011502</td>\n",
       "      <td>-0.006085</td>\n",
       "      <td>-0.009940</td>\n",
       "      <td>-0.057686</td>\n",
       "      <td>0.005116</td>\n",
       "      <td>8</td>\n",
       "      <td>46986</td>\n",
       "      <td>25937</td>\n",
       "      <td>6</td>\n",
       "      <td>42900</td>\n",
       "      <td>15542</td>\n",
       "      <td>69</td>\n",
       "      <td>0</td>\n",
       "      <td>0</td>\n",
       "    </tr>\n",
       "    <tr>\n",
       "      <th>1</th>\n",
       "      <td>0.097927</td>\n",
       "      <td>0.011758</td>\n",
       "      <td>0.018442</td>\n",
       "      <td>-0.164602</td>\n",
       "      <td>-0.127541</td>\n",
       "      <td>-0.045789</td>\n",
       "      <td>8</td>\n",
       "      <td>46986</td>\n",
       "      <td>35462</td>\n",
       "      <td>8</td>\n",
       "      <td>22164</td>\n",
       "      <td>58516</td>\n",
       "      <td>170</td>\n",
       "      <td>0</td>\n",
       "      <td>0</td>\n",
       "    </tr>\n",
       "    <tr>\n",
       "      <th>2</th>\n",
       "      <td>1.934192</td>\n",
       "      <td>0.468640</td>\n",
       "      <td>1.468779</td>\n",
       "      <td>-0.163396</td>\n",
       "      <td>-0.126357</td>\n",
       "      <td>-0.044450</td>\n",
       "      <td>9</td>\n",
       "      <td>47020</td>\n",
       "      <td>23255</td>\n",
       "      <td>8</td>\n",
       "      <td>23896</td>\n",
       "      <td>39465</td>\n",
       "      <td>16</td>\n",
       "      <td>0</td>\n",
       "      <td>0</td>\n",
       "    </tr>\n",
       "    <tr>\n",
       "      <th>3</th>\n",
       "      <td>-0.012677</td>\n",
       "      <td>-0.011578</td>\n",
       "      <td>-0.006190</td>\n",
       "      <td>-0.164696</td>\n",
       "      <td>-0.127552</td>\n",
       "      <td>-0.045794</td>\n",
       "      <td>2</td>\n",
       "      <td>46790</td>\n",
       "      <td>62779</td>\n",
       "      <td>6</td>\n",
       "      <td>80493</td>\n",
       "      <td>23018</td>\n",
       "      <td>325</td>\n",
       "      <td>0</td>\n",
       "      <td>4</td>\n",
       "    </tr>\n",
       "    <tr>\n",
       "      <th>4</th>\n",
       "      <td>12.183318</td>\n",
       "      <td>5.892219</td>\n",
       "      <td>15.613691</td>\n",
       "      <td>-0.160947</td>\n",
       "      <td>-0.120492</td>\n",
       "      <td>-0.038956</td>\n",
       "      <td>8</td>\n",
       "      <td>70245</td>\n",
       "      <td>48066</td>\n",
       "      <td>6</td>\n",
       "      <td>22770</td>\n",
       "      <td>38021</td>\n",
       "      <td>196</td>\n",
       "      <td>0</td>\n",
       "      <td>0</td>\n",
       "    </tr>\n",
       "  </tbody>\n",
       "</table>\n",
       "</div>"
      ],
      "text/plain": [
       "   num_total_packets  total_bytes  src_bytes  packets_in_Sec  \\\n",
       "0          -0.011855    -0.011502  -0.006085       -0.009940   \n",
       "1           0.097927     0.011758   0.018442       -0.164602   \n",
       "2           1.934192     0.468640   1.468779       -0.163396   \n",
       "3          -0.012677    -0.011578  -0.006190       -0.164696   \n",
       "4          12.183318     5.892219  15.613691       -0.160947   \n",
       "\n",
       "   bytes_total_in_Sec  Source_Bytes_Sec  protocol  src_ip  src_port  \\\n",
       "0           -0.057686          0.005116         8   46986     25937   \n",
       "1           -0.127541         -0.045789         8   46986     35462   \n",
       "2           -0.126357         -0.044450         9   47020     23255   \n",
       "3           -0.127552         -0.045794         2   46790     62779   \n",
       "4           -0.120492         -0.038956         8   70245     48066   \n",
       "\n",
       "   direction  dst_ip  dst_port  state  srctype_service  dsttype_service  \n",
       "0          6   42900     15542     69                0                0  \n",
       "1          8   22164     58516    170                0                0  \n",
       "2          8   23896     39465     16                0                0  \n",
       "3          6   80493     23018    325                0                4  \n",
       "4          6   22770     38021    196                0                0  "
      ]
     },
     "execution_count": 3,
     "metadata": {},
     "output_type": "execute_result"
    }
   ],
   "source": [
    "df_train.head()"
   ]
  },
  {
   "cell_type": "code",
   "execution_count": 47,
   "id": "433cba46",
   "metadata": {},
   "outputs": [
    {
     "data": {
      "text/plain": [
       "IncrementalPCA(n_components=10)"
      ]
     },
     "execution_count": 47,
     "metadata": {},
     "output_type": "execute_result"
    }
   ],
   "source": [
    "# PCA classifier with the train dataset. \n",
    "PCA = IncrementalPCA(n_components=10)\n",
    "PCA.fit(df_train)"
   ]
  },
  {
   "cell_type": "code",
   "execution_count": 48,
   "id": "8d2b41e9",
   "metadata": {},
   "outputs": [
    {
     "name": "stdout",
     "output_type": "stream",
     "text": [
      "[0.38409039 0.65848989 0.86537491 0.99999517 0.99999999 1.\n",
      " 1.         1.         1.         1.        ]\n"
     ]
    }
   ],
   "source": [
    "# Compute the cumulative sum of the variance ratio (vector of the variance explained by each dimension). \n",
    "print(PCA.explained_variance_ratio_.cumsum())"
   ]
  },
  {
   "cell_type": "code",
   "execution_count": 31,
   "id": "0a53ef2c",
   "metadata": {},
   "outputs": [
    {
     "data": {
      "text/plain": [
       "IncrementalPCA(n_components=3)"
      ]
     },
     "execution_count": 31,
     "metadata": {},
     "output_type": "execute_result"
    }
   ],
   "source": [
    "\"\"\"The Incremental PCA is used as a replacement for the PCA as the \n",
    "dataset to be decomposed is too large to fit in the memory. \n",
    "The IPCA would build a low-rank approximation of the input data \n",
    "using an amount of memory which is independent of the number \n",
    "of input data samples. It is however, dependent on the input \n",
    "data features but changing the batch would allow for control of \n",
    "the memory usage. \n",
    "\n",
    "Reference : \n",
    "https://scikit-learn.org/stable/auto_examples/decomposition/plot_incremental_pca.html\n",
    "\"\"\"\n",
    "# Initialise PCA with 3 number of components. \n",
    "PCA = IncrementalPCA(n_components=3)\n",
    "PCA.fit(df_train)"
   ]
  },
  {
   "cell_type": "code",
   "execution_count": 32,
   "id": "72fdb7b5",
   "metadata": {},
   "outputs": [],
   "source": [
    "PCA_train_raw = PCA.transform(df_train)"
   ]
  },
  {
   "cell_type": "code",
   "execution_count": 43,
   "id": "11fc1a78",
   "metadata": {},
   "outputs": [],
   "source": [
    "# Create the train samples for PCA classifier.\n",
    "train_PCA = pd.DataFrame(data = PCA_train_raw, columns = ['PC1','PC2','PC3'])"
   ]
  },
  {
   "cell_type": "code",
   "execution_count": 44,
   "id": "eb5b4f7b",
   "metadata": {},
   "outputs": [
    {
     "data": {
      "text/html": [
       "<div>\n",
       "<style scoped>\n",
       "    .dataframe tbody tr th:only-of-type {\n",
       "        vertical-align: middle;\n",
       "    }\n",
       "\n",
       "    .dataframe tbody tr th {\n",
       "        vertical-align: top;\n",
       "    }\n",
       "\n",
       "    .dataframe thead th {\n",
       "        text-align: right;\n",
       "    }\n",
       "</style>\n",
       "<table border=\"1\" class=\"dataframe\">\n",
       "  <thead>\n",
       "    <tr style=\"text-align: right;\">\n",
       "      <th></th>\n",
       "      <th>PC1</th>\n",
       "      <th>PC2</th>\n",
       "      <th>PC3</th>\n",
       "    </tr>\n",
       "  </thead>\n",
       "  <tbody>\n",
       "    <tr>\n",
       "      <th>0</th>\n",
       "      <td>2061.643438</td>\n",
       "      <td>6851.147699</td>\n",
       "      <td>-21125.993494</td>\n",
       "    </tr>\n",
       "    <tr>\n",
       "      <th>1</th>\n",
       "      <td>-818.914845</td>\n",
       "      <td>-17982.407564</td>\n",
       "      <td>5594.477966</td>\n",
       "    </tr>\n",
       "    <tr>\n",
       "      <th>2</th>\n",
       "      <td>-4025.163308</td>\n",
       "      <td>-9111.396463</td>\n",
       "      <td>-13531.652440</td>\n",
       "    </tr>\n",
       "    <tr>\n",
       "      <th>3</th>\n",
       "      <td>27019.553774</td>\n",
       "      <td>17440.296424</td>\n",
       "      <td>17247.812563</td>\n",
       "    </tr>\n",
       "    <tr>\n",
       "      <th>4</th>\n",
       "      <td>-22741.822775</td>\n",
       "      <td>-3447.456107</td>\n",
       "      <td>11580.003226</td>\n",
       "    </tr>\n",
       "    <tr>\n",
       "      <th>5</th>\n",
       "      <td>53234.887808</td>\n",
       "      <td>39392.394464</td>\n",
       "      <td>9125.448160</td>\n",
       "    </tr>\n",
       "    <tr>\n",
       "      <th>6</th>\n",
       "      <td>-5680.013221</td>\n",
       "      <td>-25268.321899</td>\n",
       "      <td>19243.764642</td>\n",
       "    </tr>\n",
       "    <tr>\n",
       "      <th>7</th>\n",
       "      <td>9005.323332</td>\n",
       "      <td>-9685.774374</td>\n",
       "      <td>13251.650857</td>\n",
       "    </tr>\n",
       "    <tr>\n",
       "      <th>8</th>\n",
       "      <td>-17014.657663</td>\n",
       "      <td>-1535.237506</td>\n",
       "      <td>-47924.507234</td>\n",
       "    </tr>\n",
       "    <tr>\n",
       "      <th>9</th>\n",
       "      <td>-20265.749900</td>\n",
       "      <td>-2659.958895</td>\n",
       "      <td>19724.492192</td>\n",
       "    </tr>\n",
       "  </tbody>\n",
       "</table>\n",
       "</div>"
      ],
      "text/plain": [
       "            PC1           PC2           PC3\n",
       "0   2061.643438   6851.147699 -21125.993494\n",
       "1   -818.914845 -17982.407564   5594.477966\n",
       "2  -4025.163308  -9111.396463 -13531.652440\n",
       "3  27019.553774  17440.296424  17247.812563\n",
       "4 -22741.822775  -3447.456107  11580.003226\n",
       "5  53234.887808  39392.394464   9125.448160\n",
       "6  -5680.013221 -25268.321899  19243.764642\n",
       "7   9005.323332  -9685.774374  13251.650857\n",
       "8 -17014.657663  -1535.237506 -47924.507234\n",
       "9 -20265.749900  -2659.958895  19724.492192"
      ]
     },
     "execution_count": 44,
     "metadata": {},
     "output_type": "execute_result"
    }
   ],
   "source": [
    "train_PCA.head(10)"
   ]
  },
  {
   "cell_type": "code",
   "execution_count": 35,
   "id": "9449899e",
   "metadata": {},
   "outputs": [],
   "source": [
    "# Save as CSV - train samples\n",
    "train_PCA.to_csv('train_data_with_PCA_A1.csv', sep=',', index=False)"
   ]
  },
  {
   "cell_type": "markdown",
   "id": "ea22c0b6",
   "metadata": {},
   "source": [
    "### Test data "
   ]
  },
  {
   "cell_type": "code",
   "execution_count": 22,
   "id": "e2dda6a0",
   "metadata": {},
   "outputs": [],
   "source": [
    "df_test = pd.read_csv('test_data_of_A1.csv', sep=',')"
   ]
  },
  {
   "cell_type": "code",
   "execution_count": null,
   "id": "7dbe1496",
   "metadata": {},
   "outputs": [],
   "source": [
    "\"\"\"\n",
    "The test and training dataset were pre-processed or cleaned initially to remove any noise \n",
    "or irregularities in the data.\n",
    "\"\"\""
   ]
  },
  {
   "cell_type": "code",
   "execution_count": 39,
   "id": "0320a535",
   "metadata": {},
   "outputs": [],
   "source": [
    "# projection with transform , project each row of the data into the vector space that was learned while the fit was called. \n",
    "PCA_test_raw = PCA.transform(df_test)"
   ]
  },
  {
   "cell_type": "code",
   "execution_count": 40,
   "id": "bd6f8ee5",
   "metadata": {},
   "outputs": [],
   "source": [
    "# creating new test dataframe \n",
    "PCA_test = pd.DataFrame(data = PCA_test_raw, columns = ['PC1','PC2','PC3'])"
   ]
  },
  {
   "cell_type": "code",
   "execution_count": 41,
   "id": "5b995fb7",
   "metadata": {},
   "outputs": [
    {
     "data": {
      "text/html": [
       "<div>\n",
       "<style scoped>\n",
       "    .dataframe tbody tr th:only-of-type {\n",
       "        vertical-align: middle;\n",
       "    }\n",
       "\n",
       "    .dataframe tbody tr th {\n",
       "        vertical-align: top;\n",
       "    }\n",
       "\n",
       "    .dataframe thead th {\n",
       "        text-align: right;\n",
       "    }\n",
       "</style>\n",
       "<table border=\"1\" class=\"dataframe\">\n",
       "  <thead>\n",
       "    <tr style=\"text-align: right;\">\n",
       "      <th></th>\n",
       "      <th>PC1</th>\n",
       "      <th>PC2</th>\n",
       "      <th>PC3</th>\n",
       "    </tr>\n",
       "  </thead>\n",
       "  <tbody>\n",
       "    <tr>\n",
       "      <th>0</th>\n",
       "      <td>-58940.836498</td>\n",
       "      <td>28391.067991</td>\n",
       "      <td>46563.954468</td>\n",
       "    </tr>\n",
       "    <tr>\n",
       "      <th>1</th>\n",
       "      <td>-66855.237769</td>\n",
       "      <td>40210.130476</td>\n",
       "      <td>43663.934279</td>\n",
       "    </tr>\n",
       "    <tr>\n",
       "      <th>2</th>\n",
       "      <td>-41258.325289</td>\n",
       "      <td>10413.665088</td>\n",
       "      <td>39350.149270</td>\n",
       "    </tr>\n",
       "    <tr>\n",
       "      <th>3</th>\n",
       "      <td>10208.547731</td>\n",
       "      <td>-27106.929630</td>\n",
       "      <td>-5679.100323</td>\n",
       "    </tr>\n",
       "    <tr>\n",
       "      <th>4</th>\n",
       "      <td>-82279.985918</td>\n",
       "      <td>57566.158125</td>\n",
       "      <td>29969.385900</td>\n",
       "    </tr>\n",
       "  </tbody>\n",
       "</table>\n",
       "</div>"
      ],
      "text/plain": [
       "            PC1           PC2           PC3\n",
       "0 -58940.836498  28391.067991  46563.954468\n",
       "1 -66855.237769  40210.130476  43663.934279\n",
       "2 -41258.325289  10413.665088  39350.149270\n",
       "3  10208.547731 -27106.929630  -5679.100323\n",
       "4 -82279.985918  57566.158125  29969.385900"
      ]
     },
     "execution_count": 41,
     "metadata": {},
     "output_type": "execute_result"
    }
   ],
   "source": [
    "PCA_test.head()"
   ]
  },
  {
   "cell_type": "code",
   "execution_count": 42,
   "id": "4f7ec5ef",
   "metadata": {},
   "outputs": [],
   "source": [
    "# save output as CSV . \n",
    "PCA_test.to_csv('test_data_with_PCA_A1.csv', sep=',', index=False)"
   ]
  },
  {
   "cell_type": "code",
   "execution_count": null,
   "id": "2b516255",
   "metadata": {},
   "outputs": [],
   "source": []
  }
 ],
 "metadata": {
  "kernelspec": {
   "display_name": "Python 3 (ipykernel)",
   "language": "python",
   "name": "python3"
  },
  "language_info": {
   "codemirror_mode": {
    "name": "ipython",
    "version": 3
   },
   "file_extension": ".py",
   "mimetype": "text/x-python",
   "name": "python",
   "nbconvert_exporter": "python",
   "pygments_lexer": "ipython3",
   "version": "3.8.11"
  }
 },
 "nbformat": 4,
 "nbformat_minor": 5
}
