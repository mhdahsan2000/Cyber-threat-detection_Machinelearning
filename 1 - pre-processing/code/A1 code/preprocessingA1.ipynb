{
 "cells": [
  {
   "cell_type": "code",
   "execution_count": 2,
   "id": "0548b654",
   "metadata": {},
   "outputs": [],
   "source": [
    "import pandas as pd \n",
    "import numpy as np "
   ]
  },
  {
   "cell_type": "markdown",
   "id": "24b2058f",
   "metadata": {},
   "source": [
    "This code is submitted as part of project 2 for the subject COMP90037 (Security Analytics) at the University of  Melbourne .\n",
    "     \n",
    "    -------------------------------------------\n",
    "    COMP90037 Security Analytics - Project 2 \n",
    "    Machine learning based Threat detection\n",
    "\n",
    "    Author : Mohammed Ahsan Kollathodi \n",
    "    Student id: 1048942.\n",
    "    "
   ]
  },
  {
   "cell_type": "markdown",
   "id": "2e87988c",
   "metadata": {},
   "source": [
    "#### The principal aim of this code is to perform pre-processing to the given dataset to clean dataset or remove noise."
   ]
  },
  {
   "cell_type": "markdown",
   "id": "d3ba0a95",
   "metadata": {},
   "source": [
    "### Train data "
   ]
  },
  {
   "cell_type": "markdown",
   "id": "af9b4f12",
   "metadata": {},
   "source": [
    "The dataset provided contain the NetFlow data for a network under cyberattacks. Each line of the dataset includes the following 15 fields: (1) stream ID, (2) timestamp, (3) duration, (4) protocol, (5) source IP address, (6) source port, (7) direction, (8) destination IP address, (9) destination port, (10) state, (11) source type of service, (12) destination type of service, (13) the number of total packets, (14) the number of bytes transferred in both directions, (15) the number of bytes transferred from the source to the destination.\n",
    "\n",
    "I have not labelled stream ID as it's not very relevant with respect to the project. "
   ]
  },
  {
   "cell_type": "code",
   "execution_count": 3,
   "id": "1d3b5fcd",
   "metadata": {},
   "outputs": [],
   "source": [
    "# Create a new train dataset dataframe and assign fields in the given unlabelled CSV for training dataset.\n",
    "train_df = pd.read_csv('training_data.csv',sep=',',names=['timestamp','duration','protocol','src_ip','src_port','direction','dst_ip','dst_port','state','srctype_service','dsttype_service','num_total_packets','total_bytes','src_bytes'])"
   ]
  },
  {
   "cell_type": "code",
   "execution_count": 4,
   "id": "5c387126",
   "metadata": {},
   "outputs": [
    {
     "name": "stdout",
     "output_type": "stream",
     "text": [
      "                          timestamp     duration protocol           src_ip  \\\n",
      "1        2021-08-15 18:24:13.357372     0.002631      tcp    150.35.89.169   \n",
      "2        2021-08-15 18:24:13.359765  3562.810777      tcp    150.35.89.169   \n",
      "3        2021-08-15 18:24:13.364512   632.856571      udp     150.35.89.27   \n",
      "4        2021-08-15 18:24:13.365311     0.000000     icmp    150.35.87.121   \n",
      "5        2021-08-15 18:24:13.366361  1316.538437      tcp     191.98.64.45   \n",
      "...                             ...          ...      ...              ...   \n",
      "1045451  2021-08-16 19:50:43.445184     0.190298      tcp    150.35.87.126   \n",
      "1045452  2021-08-16 19:50:43.487227     0.120374      tcp  207.127.183.239   \n",
      "1045453  2021-08-16 19:50:43.501126     0.064432      tcp     150.35.88.21   \n",
      "1045454  2021-08-16 19:50:43.637173     0.000000      udp     150.35.87.62   \n",
      "1045455  2021-08-16 19:50:43.676861     0.000000      udp    150.35.87.232   \n",
      "\n",
      "         src_port direction           dst_ip  dst_port     state  \\\n",
      "1           33427       <?>   215.27.153.113     25442  FRPA_FPA   \n",
      "2           42022       <?>    150.35.195.37       993     PA_PA   \n",
      "3           31002       <->    154.44.191.42     49623       CON   \n",
      "4             771        ->     85.76.247.59     33026       URP   \n",
      "5           53390       <?>    150.35.89.113     48190   RPA_FPA   \n",
      "...           ...       ...              ...       ...       ...   \n",
      "1045451     38666        ->    66.248.212.96        80    SPA_SA   \n",
      "1045452     55177        ->      150.35.87.5        80     SA_SA   \n",
      "1045453      1650        ->    77.128.82.192       443   SPA_SPA   \n",
      "1045454     15672        ->  112.178.174.203     64530       INT   \n",
      "1045455     13360        ->    88.228.11.114     49036       INT   \n",
      "\n",
      "         srctype_service  dsttype_service  num_total_packets  total_bytes  \\\n",
      "1                    0.0              0.0                  5          492   \n",
      "2                    0.0              0.0                539        98526   \n",
      "3                    0.0              0.0               9471      2024103   \n",
      "4                    0.0              NaN                  1          173   \n",
      "5                    0.0              0.0              59325     24882342   \n",
      "...                  ...              ...                ...          ...   \n",
      "1045451              0.0              0.0                  3          777   \n",
      "1045452              0.0              0.0                  2          184   \n",
      "1045453              0.0              0.0                  9         3855   \n",
      "1045454              0.0              NaN                  0           72   \n",
      "1045455              0.0              NaN                  1           59   \n",
      "\n",
      "         src_bytes  \n",
      "1              318  \n",
      "2            33881  \n",
      "3          2018524  \n",
      "4              174  \n",
      "5         21374442  \n",
      "...            ...  \n",
      "1045451        721  \n",
      "1045452        122  \n",
      "1045453       3506  \n",
      "1045454         72  \n",
      "1045455         60  \n",
      "\n",
      "[1045455 rows x 14 columns]\n"
     ]
    }
   ],
   "source": [
    "print(train_df)"
   ]
  },
  {
   "cell_type": "code",
   "execution_count": 5,
   "id": "8f25690a",
   "metadata": {},
   "outputs": [
    {
     "data": {
      "text/plain": [
       "timestamp            False\n",
       "duration             False\n",
       "protocol             False\n",
       "src_ip               False\n",
       "src_port             False\n",
       "direction            False\n",
       "dst_ip               False\n",
       "dst_port             False\n",
       "state                 True\n",
       "srctype_service       True\n",
       "dsttype_service       True\n",
       "num_total_packets    False\n",
       "total_bytes          False\n",
       "src_bytes            False\n",
       "dtype: bool"
      ]
     },
     "execution_count": 5,
     "metadata": {},
     "output_type": "execute_result"
    }
   ],
   "source": [
    "\"\"\"\n",
    ".isna() is used to detect the missing values in the given series object. \n",
    "It would return a boolan of same-sized object indicating if the values are NA. \n",
    "# Missing values gets maapped to True and non-missing values gets mapped to False.\n",
    "\n",
    "\"\"\"\n",
    "\n",
    "train_df.isna().any()  # To detect missing values in the given series object. \n",
    "                       "
   ]
  },
  {
   "cell_type": "code",
   "execution_count": 6,
   "id": "c96a78ec",
   "metadata": {},
   "outputs": [
    {
     "data": {
      "text/plain": [
       "timestamp            1045451\n",
       "duration              951288\n",
       "protocol                  11\n",
       "src_ip                  5498\n",
       "src_port               60939\n",
       "direction                  6\n",
       "dst_ip                103143\n",
       "dst_port               57825\n",
       "state                    316\n",
       "srctype_service            5\n",
       "dsttype_service            4\n",
       "num_total_packets       3309\n",
       "total_bytes            71947\n",
       "src_bytes              26904\n",
       "dtype: int64"
      ]
     },
     "execution_count": 6,
     "metadata": {},
     "output_type": "execute_result"
    }
   ],
   "source": [
    "train_df.nunique()   # returns the number of unique values for each column or row. "
   ]
  },
  {
   "cell_type": "code",
   "execution_count": 7,
   "id": "57ea9284",
   "metadata": {},
   "outputs": [
    {
     "data": {
      "text/plain": [
       "array(['  <?>', '  <->', '   ->', '   ?>', '  who', '  <-'], dtype=object)"
      ]
     },
     "execution_count": 7,
     "metadata": {},
     "output_type": "execute_result"
    }
   ],
   "source": [
    "train_df.direction.unique()   # Cleaning the 'direction' field. "
   ]
  },
  {
   "cell_type": "code",
   "execution_count": 8,
   "id": "9c5c9427",
   "metadata": {},
   "outputs": [
    {
     "data": {
      "text/plain": [
       "<->    529973\n",
       "->     485965\n",
       "<?>     17322\n",
       "<-      12195\n",
       "Name: direction, dtype: int64"
      ]
     },
     "execution_count": 8,
     "metadata": {},
     "output_type": "execute_result"
    }
   ],
   "source": [
    "# cleaned values for the field direction in the dataset. \n",
    "# We replace the existing column 'direction' values with cleaned values. \n",
    "\n",
    "cleanedvalues = {'   ->':'->','  <?>':'<?>','  <->':'<->','   ?>':'<?>','  <-':'<-','  who':'<?>','  <?':'<?>'}\n",
    "\n",
    "# replace in the existing dataset. \n",
    "train_df = train_df.replace({\"direction\": cleanedvalues})\n",
    "\n",
    "# count the number of values for direction column values. \n",
    "train_df['direction'].value_counts()\n",
    "\n"
   ]
  },
  {
   "cell_type": "code",
   "execution_count": 9,
   "id": "582c519e",
   "metadata": {},
   "outputs": [],
   "source": [
    "# We introduce a new field called as dir_ratio to have a quantitative analysis of the fields in direction.\n",
    "\n",
    "train_df['dir_ratio'] = train_df['src_bytes']/train_df['total_bytes']\n"
   ]
  },
  {
   "cell_type": "code",
   "execution_count": 10,
   "id": "d8917ee0",
   "metadata": {},
   "outputs": [
    {
     "name": "stdout",
     "output_type": "stream",
     "text": [
      "0.5732127382993537\n",
      "0.37838143058224705\n",
      "0.656080404635475\n",
      "0.0\n"
     ]
    }
   ],
   "source": [
    "# Display the ratio of all fields in the column direction for the given training dataset. \n",
    "\n",
    "print(train_df.loc[train_df['direction'] == '->']['dir_ratio'].mean())\n",
    "print(train_df.loc[train_df['direction'] == '<->']['dir_ratio'].mean())\n",
    "print(train_df.loc[train_df['direction'] == '<?>']['dir_ratio'].mean())\n",
    "print(train_df.loc[train_df['direction'] == '<-']['dir_ratio'].mean())\n"
   ]
  },
  {
   "cell_type": "code",
   "execution_count": 11,
   "id": "7b0aeba5",
   "metadata": {},
   "outputs": [
    {
     "data": {
      "text/html": [
       "<div>\n",
       "<style scoped>\n",
       "    .dataframe tbody tr th:only-of-type {\n",
       "        vertical-align: middle;\n",
       "    }\n",
       "\n",
       "    .dataframe tbody tr th {\n",
       "        vertical-align: top;\n",
       "    }\n",
       "\n",
       "    .dataframe thead th {\n",
       "        text-align: right;\n",
       "    }\n",
       "</style>\n",
       "<table border=\"1\" class=\"dataframe\">\n",
       "  <thead>\n",
       "    <tr style=\"text-align: right;\">\n",
       "      <th></th>\n",
       "      <th>timestamp</th>\n",
       "      <th>duration</th>\n",
       "      <th>protocol</th>\n",
       "      <th>src_ip</th>\n",
       "      <th>src_port</th>\n",
       "      <th>direction</th>\n",
       "      <th>dst_ip</th>\n",
       "      <th>dst_port</th>\n",
       "      <th>state</th>\n",
       "      <th>srctype_service</th>\n",
       "      <th>dsttype_service</th>\n",
       "      <th>num_total_packets</th>\n",
       "      <th>total_bytes</th>\n",
       "      <th>src_bytes</th>\n",
       "      <th>dir_ratio</th>\n",
       "    </tr>\n",
       "  </thead>\n",
       "  <tbody>\n",
       "    <tr>\n",
       "      <th>1478</th>\n",
       "      <td>2021-08-15 18:24:34.783048</td>\n",
       "      <td>0.000028</td>\n",
       "      <td>icmp</td>\n",
       "      <td>150.35.90.252</td>\n",
       "      <td>0</td>\n",
       "      <td>&lt;-</td>\n",
       "      <td>150.35.90.14</td>\n",
       "      <td>2</td>\n",
       "      <td>RED</td>\n",
       "      <td>NaN</td>\n",
       "      <td>0.0</td>\n",
       "      <td>2</td>\n",
       "      <td>147</td>\n",
       "      <td>0</td>\n",
       "      <td>0.0</td>\n",
       "    </tr>\n",
       "    <tr>\n",
       "      <th>1532</th>\n",
       "      <td>2021-08-15 18:24:35.564441</td>\n",
       "      <td>0.001818</td>\n",
       "      <td>icmp</td>\n",
       "      <td>150.35.90.252</td>\n",
       "      <td>0</td>\n",
       "      <td>&lt;-</td>\n",
       "      <td>150.35.90.16</td>\n",
       "      <td>2</td>\n",
       "      <td>RED</td>\n",
       "      <td>NaN</td>\n",
       "      <td>0.0</td>\n",
       "      <td>1</td>\n",
       "      <td>148</td>\n",
       "      <td>0</td>\n",
       "      <td>0.0</td>\n",
       "    </tr>\n",
       "    <tr>\n",
       "      <th>1549</th>\n",
       "      <td>2021-08-15 18:24:35.770106</td>\n",
       "      <td>0.000014</td>\n",
       "      <td>icmp</td>\n",
       "      <td>150.35.90.252</td>\n",
       "      <td>0</td>\n",
       "      <td>&lt;-</td>\n",
       "      <td>150.35.90.14</td>\n",
       "      <td>2</td>\n",
       "      <td>ECR</td>\n",
       "      <td>NaN</td>\n",
       "      <td>0.0</td>\n",
       "      <td>1</td>\n",
       "      <td>148</td>\n",
       "      <td>0</td>\n",
       "      <td>0.0</td>\n",
       "    </tr>\n",
       "    <tr>\n",
       "      <th>1596</th>\n",
       "      <td>2021-08-15 18:24:36.551252</td>\n",
       "      <td>0.000430</td>\n",
       "      <td>icmp</td>\n",
       "      <td>150.35.90.252</td>\n",
       "      <td>0</td>\n",
       "      <td>&lt;-</td>\n",
       "      <td>150.35.90.16</td>\n",
       "      <td>2</td>\n",
       "      <td>RED</td>\n",
       "      <td>NaN</td>\n",
       "      <td>0.0</td>\n",
       "      <td>2</td>\n",
       "      <td>148</td>\n",
       "      <td>0</td>\n",
       "      <td>0.0</td>\n",
       "    </tr>\n",
       "    <tr>\n",
       "      <th>1610</th>\n",
       "      <td>2021-08-15 18:24:36.770012</td>\n",
       "      <td>0.000009</td>\n",
       "      <td>icmp</td>\n",
       "      <td>150.35.90.252</td>\n",
       "      <td>0</td>\n",
       "      <td>&lt;-</td>\n",
       "      <td>150.35.90.14</td>\n",
       "      <td>2</td>\n",
       "      <td>ECR</td>\n",
       "      <td>NaN</td>\n",
       "      <td>0.0</td>\n",
       "      <td>1</td>\n",
       "      <td>149</td>\n",
       "      <td>0</td>\n",
       "      <td>0.0</td>\n",
       "    </tr>\n",
       "  </tbody>\n",
       "</table>\n",
       "</div>"
      ],
      "text/plain": [
       "                       timestamp  duration protocol         src_ip  src_port  \\\n",
       "1478  2021-08-15 18:24:34.783048  0.000028     icmp  150.35.90.252         0   \n",
       "1532  2021-08-15 18:24:35.564441  0.001818     icmp  150.35.90.252         0   \n",
       "1549  2021-08-15 18:24:35.770106  0.000014     icmp  150.35.90.252         0   \n",
       "1596  2021-08-15 18:24:36.551252  0.000430     icmp  150.35.90.252         0   \n",
       "1610  2021-08-15 18:24:36.770012  0.000009     icmp  150.35.90.252         0   \n",
       "\n",
       "     direction        dst_ip  dst_port state  srctype_service  \\\n",
       "1478        <-  150.35.90.14         2   RED              NaN   \n",
       "1532        <-  150.35.90.16         2   RED              NaN   \n",
       "1549        <-  150.35.90.14         2   ECR              NaN   \n",
       "1596        <-  150.35.90.16         2   RED              NaN   \n",
       "1610        <-  150.35.90.14         2   ECR              NaN   \n",
       "\n",
       "      dsttype_service  num_total_packets  total_bytes  src_bytes  dir_ratio  \n",
       "1478              0.0                  2          147          0        0.0  \n",
       "1532              0.0                  1          148          0        0.0  \n",
       "1549              0.0                  1          148          0        0.0  \n",
       "1596              0.0                  2          148          0        0.0  \n",
       "1610              0.0                  1          149          0        0.0  "
      ]
     },
     "execution_count": 11,
     "metadata": {},
     "output_type": "execute_result"
    }
   ],
   "source": [
    "# We could find that the '<-' value in direction set would have the \"source_bytes\" equal to the value of zero. \n",
    "# So we further investigate all other data that are related to the above value. \n",
    "\n",
    "train_df.loc[train_df['direction'] == '<-'].head()"
   ]
  },
  {
   "cell_type": "code",
   "execution_count": 12,
   "id": "31da7f33",
   "metadata": {},
   "outputs": [],
   "source": [
    "# The direction field in the dataset can be further completed, with the ratio being estimated.\n",
    "train_df.loc[(train_df['src_bytes'] == 0) & (train_df['direction'] == '<?>'), 'direction'] = '<-'\n",
    "train_df.loc[(train_df['dir_ratio'] > 0.5) & (train_df['direction'] == '<?>'), 'direction'] = '->'\n",
    "train_df.loc[(train_df['dir_ratio'] <= 0.5) & (train_df['direction'] == '<?>'), 'direction'] = '<->'\n"
   ]
  },
  {
   "cell_type": "code",
   "execution_count": 13,
   "id": "29b3aef2",
   "metadata": {},
   "outputs": [
    {
     "data": {
      "text/plain": [
       "<->    535265\n",
       "->     497900\n",
       "<-      12290\n",
       "Name: direction, dtype: int64"
      ]
     },
     "execution_count": 13,
     "metadata": {},
     "output_type": "execute_result"
    }
   ],
   "source": [
    "# Count the number of values for each field in 'direction'. \n",
    "train_df['direction'].value_counts()\n"
   ]
  },
  {
   "cell_type": "code",
   "execution_count": 14,
   "id": "3cdc4bc6",
   "metadata": {},
   "outputs": [],
   "source": [
    "\"\"\"\n",
    "We create new fields to estimate the total packets,\n",
    "total bytes and the total number of source bytes transferred in a unit time.\n",
    "\"\"\"\n",
    "# packetsinSec to estimate the number of packets in a unit time.\n",
    "\n",
    "train_df['packets_in_Sec'] = train_df['num_total_packets']/train_df['duration']\n",
    "\n",
    "# bytestotalinSec to estimate the total number of bytes in a unit time.\n",
    "\n",
    "train_df['bytes_total_in_Sec'] = train_df['total_bytes']/train_df['duration']\n",
    "\n",
    "# sourcebytesinSec to estimate the source bytes transferred in a unit time. \n",
    "\n",
    "train_df['Source_Bytes_Sec'] = train_df['src_bytes']/train_df['duration']\n"
   ]
  },
  {
   "cell_type": "code",
   "execution_count": 15,
   "id": "0fa7a2ca",
   "metadata": {},
   "outputs": [],
   "source": [
    "# convert the cleaned training data into a CSV and save it in the root folder. \n",
    "train_df.to_csv('trainingdata_cleaned.csv', sep=',', index=False)"
   ]
  },
  {
   "cell_type": "markdown",
   "id": "baea4f7d",
   "metadata": {},
   "source": [
    "### Test data "
   ]
  },
  {
   "cell_type": "code",
   "execution_count": 16,
   "id": "7109d4b4",
   "metadata": {},
   "outputs": [],
   "source": [
    "# Introduce new test dataframe. \n",
    "# Create a new test dataset dataframe and assign fields in the given unlabelled CSV for test dataset.\n",
    "\n",
    "test_df = pd.read_csv('test_data.csv',sep=',',names=['timestamp','duration','protocol','src_ip','src_port','direction','dst_ip','dst_port','state','srctype_service','dsttype_service','num_total_packets','total_bytes','src_bytes'])\n",
    "\n",
    "\n"
   ]
  },
  {
   "cell_type": "code",
   "execution_count": 17,
   "id": "36b2a747",
   "metadata": {},
   "outputs": [
    {
     "data": {
      "text/plain": [
       "(348477, 14)"
      ]
     },
     "execution_count": 17,
     "metadata": {},
     "output_type": "execute_result"
    }
   ],
   "source": [
    "# To obtain the shape of the test data frame. \n",
    "\n",
    "test_df.shape\n"
   ]
  },
  {
   "cell_type": "code",
   "execution_count": 18,
   "id": "883c1f55",
   "metadata": {},
   "outputs": [
    {
     "data": {
      "text/plain": [
       "<->    261013\n",
       "->      82759\n",
       "<?>      4690\n",
       "<-         15\n",
       "Name: direction, dtype: int64"
      ]
     },
     "execution_count": 18,
     "metadata": {},
     "output_type": "execute_result"
    }
   ],
   "source": [
    "# Again we go for pre-processing or cleaning the direction field in the dataset. \n",
    "\n",
    "test_df = test_df.replace({\"direction\": cleanedvalues})\n",
    "\n",
    "# To count the number of values in the direction field. \n",
    "\n",
    "test_df['direction'].value_counts()\n"
   ]
  },
  {
   "cell_type": "code",
   "execution_count": 19,
   "id": "bb9175e2",
   "metadata": {},
   "outputs": [],
   "source": [
    "# We introduce a new field called as dir_ratio to have a quantitative analysis of the fields in direction.\n",
    "test_df['dir_ratio'] = test_df['src_bytes']/test_df['total_bytes']"
   ]
  },
  {
   "cell_type": "code",
   "execution_count": 20,
   "id": "ad4cbd76",
   "metadata": {},
   "outputs": [
    {
     "name": "stderr",
     "output_type": "stream",
     "text": [
      "/var/folders/3c/0p84rf_94y92bbvwmt4vtjl00000gn/T/ipykernel_16936/107007117.py:5: FutureWarning: In a future version of pandas all arguments of DataFrame.drop except for the argument 'labels' will be keyword-only\n",
      "  test_df = test_df.drop('dir_ratio',1)\n"
     ]
    }
   ],
   "source": [
    "# The newly created field called as \"dir_ratio\" would help us to have a better understanding of the 'direction' field.\n",
    "test_df.loc[(test_df['src_bytes'] == 0) & (test_df['direction'] == '<?>'), 'direction'] = '<-'\n",
    "test_df.loc[(test_df['dir_ratio'] > 0.5) & (test_df['direction'] == '<?>'), 'direction'] = '->'\n",
    "test_df.loc[(test_df['dir_ratio'] <= 0.5) & (test_df['direction'] == '<?>'), 'direction'] = '<->'\n",
    "test_df = test_df.drop('dir_ratio',1)\n",
    "\n"
   ]
  },
  {
   "cell_type": "code",
   "execution_count": 21,
   "id": "51aae904",
   "metadata": {},
   "outputs": [],
   "source": [
    "# packets_in_Sec to estimate the total number of packets in a unit time.\n",
    "\n",
    "test_df['packets_in_Sec'] = test_df['num_total_packets']/test_df['duration']\n",
    "\n",
    "# bytes_total_in_Sec to estimate the total number of bytes in a unit time.\n",
    "\n",
    "test_df['bytes_total_in_Sec'] = test_df['total_bytes']/test_df['duration']\n",
    "\n",
    "# source_Bytes_Sec to estimate the source bytes transferred in a unit time. \n",
    "\n",
    "test_df['Source_Bytes_Sec'] = test_df['src_bytes']/test_df['duration']\n"
   ]
  },
  {
   "cell_type": "code",
   "execution_count": 22,
   "id": "7a4ac4ac",
   "metadata": {},
   "outputs": [],
   "source": [
    "# Save the pre-processed and cleaned test dataset as CSV.\n",
    "\n",
    "test_df.to_csv('testdata_cleaned.csv', sep=',', index=False)"
   ]
  },
  {
   "cell_type": "markdown",
   "id": "22ade352",
   "metadata": {},
   "source": [
    "### Validation data. \n"
   ]
  },
  {
   "cell_type": "code",
   "execution_count": 85,
   "id": "d7d12dc5",
   "metadata": {},
   "outputs": [],
   "source": [
    "valid_df = pd.read_csv('validation_data_with_label.csv',sep=',',names=['timestamp','duration','protocol','src_ip','src_port','direction','dst_ip','dst_port','state','srctype_service','dsttype_service','num_total_packets','total_bytes','src_bytes','label'])\n"
   ]
  },
  {
   "cell_type": "code",
   "execution_count": 86,
   "id": "26eb174b",
   "metadata": {},
   "outputs": [],
   "source": [
    "# packets_in_Sec to estimate the total number of packets in a unit time.\n",
    "valid_df['packets_in_Sec'] = valid_df['num_total_packets']/valid_df['duration']\n",
    "\n",
    "# bytes_total_in_Sec to estimate the total number of bytes in a unit time.\n",
    "valid_df['bytes_total_in_Sec'] = valid_df['total_bytes']/valid_df['duration']\n",
    "\n",
    "# source_Bytes_Sec to estimate the source bytes transferred in a unit time. \n",
    "valid_df['Source_Bytes_Sec'] = valid_df['src_bytes']/valid_df['duration']"
   ]
  },
  {
   "cell_type": "code",
   "execution_count": 87,
   "id": "4b6e7266",
   "metadata": {},
   "outputs": [
    {
     "data": {
      "text/html": [
       "<div>\n",
       "<style scoped>\n",
       "    .dataframe tbody tr th:only-of-type {\n",
       "        vertical-align: middle;\n",
       "    }\n",
       "\n",
       "    .dataframe tbody tr th {\n",
       "        vertical-align: top;\n",
       "    }\n",
       "\n",
       "    .dataframe thead th {\n",
       "        text-align: right;\n",
       "    }\n",
       "</style>\n",
       "<table border=\"1\" class=\"dataframe\">\n",
       "  <thead>\n",
       "    <tr style=\"text-align: right;\">\n",
       "      <th></th>\n",
       "      <th>duration</th>\n",
       "      <th>src_port</th>\n",
       "      <th>dst_port</th>\n",
       "      <th>srctype_service</th>\n",
       "      <th>dsttype_service</th>\n",
       "      <th>num_total_packets</th>\n",
       "      <th>total_bytes</th>\n",
       "      <th>src_bytes</th>\n",
       "      <th>packets_in_Sec</th>\n",
       "      <th>bytes_total_in_Sec</th>\n",
       "      <th>Source_Bytes_Sec</th>\n",
       "    </tr>\n",
       "  </thead>\n",
       "  <tbody>\n",
       "    <tr>\n",
       "      <th>count</th>\n",
       "      <td>337024</td>\n",
       "      <td>337024</td>\n",
       "      <td>337024</td>\n",
       "      <td>337023</td>\n",
       "      <td>322277</td>\n",
       "      <td>337024</td>\n",
       "      <td>337024</td>\n",
       "      <td>337024</td>\n",
       "      <td>325567</td>\n",
       "      <td>337024</td>\n",
       "      <td>337024</td>\n",
       "    </tr>\n",
       "    <tr>\n",
       "      <th>mean</th>\n",
       "      <td>12.4874</td>\n",
       "      <td>46344</td>\n",
       "      <td>1026.24</td>\n",
       "      <td>0</td>\n",
       "      <td>0.000136529</td>\n",
       "      <td>3.89106</td>\n",
       "      <td>2351.25</td>\n",
       "      <td>1928.6</td>\n",
       "      <td>6147.21</td>\n",
       "      <td>inf</td>\n",
       "      <td>inf</td>\n",
       "    </tr>\n",
       "    <tr>\n",
       "      <th>std</th>\n",
       "      <td>137.708</td>\n",
       "      <td>11013.9</td>\n",
       "      <td>6393.28</td>\n",
       "      <td>0</td>\n",
       "      <td>0.0183057</td>\n",
       "      <td>444.977</td>\n",
       "      <td>360171</td>\n",
       "      <td>349893</td>\n",
       "      <td>6002.73</td>\n",
       "      <td>nan</td>\n",
       "      <td>nan</td>\n",
       "    </tr>\n",
       "    <tr>\n",
       "      <th>min</th>\n",
       "      <td>0</td>\n",
       "      <td>8</td>\n",
       "      <td>0</td>\n",
       "      <td>0</td>\n",
       "      <td>0</td>\n",
       "      <td>0</td>\n",
       "      <td>59</td>\n",
       "      <td>0</td>\n",
       "      <td>0</td>\n",
       "      <td>0.0544814</td>\n",
       "      <td>0</td>\n",
       "    </tr>\n",
       "    <tr>\n",
       "      <th>25%</th>\n",
       "      <td>0.000207279</td>\n",
       "      <td>39389</td>\n",
       "      <td>53</td>\n",
       "      <td>0</td>\n",
       "      <td>0</td>\n",
       "      <td>1</td>\n",
       "      <td>213</td>\n",
       "      <td>80</td>\n",
       "      <td>3757.81</td>\n",
       "      <td>702472</td>\n",
       "      <td>258162</td>\n",
       "    </tr>\n",
       "    <tr>\n",
       "      <th>50%</th>\n",
       "      <td>0.000254398</td>\n",
       "      <td>47672.5</td>\n",
       "      <td>53</td>\n",
       "      <td>0</td>\n",
       "      <td>0</td>\n",
       "      <td>1</td>\n",
       "      <td>214</td>\n",
       "      <td>81</td>\n",
       "      <td>5439.91</td>\n",
       "      <td>871172</td>\n",
       "      <td>317480</td>\n",
       "    </tr>\n",
       "    <tr>\n",
       "      <th>75%</th>\n",
       "      <td>0.00031311</td>\n",
       "      <td>54856</td>\n",
       "      <td>53</td>\n",
       "      <td>0</td>\n",
       "      <td>0</td>\n",
       "      <td>2</td>\n",
       "      <td>215</td>\n",
       "      <td>81</td>\n",
       "      <td>7867.46</td>\n",
       "      <td>1.08593e+06</td>\n",
       "      <td>389516</td>\n",
       "    </tr>\n",
       "    <tr>\n",
       "      <th>max</th>\n",
       "      <td>3631.38</td>\n",
       "      <td>65536</td>\n",
       "      <td>65534</td>\n",
       "      <td>0</td>\n",
       "      <td>3</td>\n",
       "      <td>176606</td>\n",
       "      <td>1.39969e+08</td>\n",
       "      <td>1.39802e+08</td>\n",
       "      <td>669885</td>\n",
       "      <td>inf</td>\n",
       "      <td>inf</td>\n",
       "    </tr>\n",
       "  </tbody>\n",
       "</table>\n",
       "</div>"
      ],
      "text/plain": [
       "          duration src_port dst_port srctype_service dsttype_service  \\\n",
       "count       337024   337024   337024          337023          322277   \n",
       "mean       12.4874    46344  1026.24               0     0.000136529   \n",
       "std        137.708  11013.9  6393.28               0       0.0183057   \n",
       "min              0        8        0               0               0   \n",
       "25%    0.000207279    39389       53               0               0   \n",
       "50%    0.000254398  47672.5       53               0               0   \n",
       "75%     0.00031311    54856       53               0               0   \n",
       "max        3631.38    65536    65534               0               3   \n",
       "\n",
       "      num_total_packets  total_bytes    src_bytes packets_in_Sec  \\\n",
       "count            337024       337024       337024         325567   \n",
       "mean            3.89106      2351.25       1928.6        6147.21   \n",
       "std             444.977       360171       349893        6002.73   \n",
       "min                   0           59            0              0   \n",
       "25%                   1          213           80        3757.81   \n",
       "50%                   1          214           81        5439.91   \n",
       "75%                   2          215           81        7867.46   \n",
       "max              176606  1.39969e+08  1.39802e+08         669885   \n",
       "\n",
       "      bytes_total_in_Sec Source_Bytes_Sec  \n",
       "count             337024           337024  \n",
       "mean                 inf              inf  \n",
       "std                  nan              nan  \n",
       "min            0.0544814                0  \n",
       "25%               702472           258162  \n",
       "50%               871172           317480  \n",
       "75%          1.08593e+06           389516  \n",
       "max                  inf              inf  "
      ]
     },
     "execution_count": 87,
     "metadata": {},
     "output_type": "execute_result"
    }
   ],
   "source": [
    "valid_df.loc[valid_df['packets_in_Sec'] != np.inf].describe().apply(lambda s: s.apply(lambda x: format(x, 'g')))"
   ]
  },
  {
   "cell_type": "code",
   "execution_count": 88,
   "id": "78fd492c",
   "metadata": {},
   "outputs": [
    {
     "data": {
      "text/plain": [
       "flow=To-Background-UDP-CVUT-DNS-Server                              312465\n",
       "flow=From-Botnet-V51-2-ICMP                                          10415\n",
       "flow=From-Botnet-V51-3-ICMP                                          10363\n",
       "flow=Background-UDP-Established                                       8217\n",
       "flow=From-Botnet-V52-2-ICMP                                           3999\n",
       "flow=Background-UDP-Attempt                                            690\n",
       "flow=Background-TCP-Established                                        555\n",
       "flow=From-Botnet-V53-2-UDP-Attempt                                     292\n",
       "flow=From-Botnet-V53-2-UDP-Established                                 277\n",
       "flow=Background                                                        199\n",
       "flow=From-Botnet-V53-3-UDP-Established                                 194\n",
       "flow=From-Botnet-V53-3-UDP-Attempt                                     182\n",
       "flow=From-Botnet-V53-2-TCP-WEB-Established                             118\n",
       "flow=From-Botnet-V53-3-TCP-WEB-Established                             115\n",
       "flow=Background-UDP-NTP-Established-1                                   96\n",
       "flow=From-Botnet-V53-2-UDP-DNS                                          70\n",
       "flow=From-Botnet-V53-3-UDP-DNS                                          70\n",
       "flow=From-Botnet-V51-2-UDP-DNS                                          17\n",
       "flow=From-Botnet-V53-1-UDP-CC108-Established-P2P-Not-Encrypted-1        17\n",
       "flow=Background-TCP-Attempt                                             16\n",
       "flow=From-Botnet-V51-3-UDP-DNS                                          14\n",
       "flow=From-Botnet-V51-3-UDP-Attempt                                      13\n",
       "flow=From-Botnet-V51-2-UDP-Attempt                                      13\n",
       "flow=To-Background-CVUT-Proxy                                            8\n",
       "flow=Background-google-analytics9                                        5\n",
       "flow=From-Botnet-V53-3-UDP-CC108-Established-P2P-Not-Encrypted-1         4\n",
       "flow=From-Botnet-V52-3-UDP-DNS                                           4\n",
       "flow=From-Botnet-V52-2-UDP-DNS                                           4\n",
       "flow=From-Botnet-V53-2-UDP-CC108-Established-P2P-Not-Encrypted-1         4\n",
       "flow=From-Botnet-V51-2-TCP-HTTP-Google-Net-Established-6                 4\n",
       "flow=From-Botnet-V53-2-TCP-HTTP-Google-Net-Established-6                 3\n",
       "flow=From-Botnet-V51-3-TCP-HTTP-Google-Net-Established-6                 3\n",
       "flow=From-Botnet-V51-3-TCP-CC106-IRC-Not-Encrypted                       3\n",
       "flow=From-Botnet-V53-3-TCP-HTTP-Google-Net-Established-6                 3\n",
       "flow=From-Botnet-V53-2-TCP-Attempt                                       3\n",
       "flow=From-Botnet-V51-2-TCP-Established                                   2\n",
       "flow=Background-google-analytics15                                       2\n",
       "flow=Background-google-analytics7                                        2\n",
       "flow=From-Botnet-V51-2-TCP-CC106-IRC-Not-Encrypted                       2\n",
       "flow=From-Botnet-V53-3-TCP-Established-HTTP-Ad-62                        2\n",
       "flow=From-Botnet-V53-3-TCP-Attempt                                       2\n",
       "flow=From-Botnet-V52-3-TCP-CC106-IRC-Not-Encrypted                       1\n",
       "flow=From-Botnet-V53-2-TCP-Established-HTTP-Ad-62                        1\n",
       "flow=From-Botnet-V52-2-TCP-HTTP-Google-Net-Established-6                 1\n",
       "flow=Background-google-analytics10                                       1\n",
       "flow=From-Botnet-V53-3-UDP-Attempt-DNS                                   1\n",
       "flow=From-Botnet-V53-3-TCP-Established                                   1\n",
       "flow=From-Botnet-V52-2-UDP-Attempt                                       1\n",
       "flow=From-Botnet-V51-3-TCP-Established-HTTP-Ad-62                        1\n",
       "flow=From-Botnet-V52-3-TCP-HTTP-Google-Net-Established-6                 1\n",
       "flow=From-Botnet-V52-2-TCP-CC106-IRC-Not-Encrypted                       1\n",
       "flow=From-Botnet-V51-2-TCP-WEB-Established                               1\n",
       "flow=From-Botnet-V53-2-UDP-Attempt-DNS                                   1\n",
       "flow=From-Botnet-V53-2-TCP-Established                                   1\n",
       "flow=Background-google-analytics2                                        1\n",
       "flow=From-Botnet-V52-3-UDP-Attempt                                       1\n",
       "flow=Background-google-analytics14                                       1\n",
       "flow=Background-google-analytics5                                        1\n",
       "flow=Background-google-analytics13                                       1\n",
       "Name: label, dtype: int64"
      ]
     },
     "execution_count": 88,
     "metadata": {},
     "output_type": "execute_result"
    }
   ],
   "source": [
    "valid_df['label'].value_counts()"
   ]
  },
  {
   "cell_type": "code",
   "execution_count": 89,
   "id": "9c4dfb92",
   "metadata": {},
   "outputs": [
    {
     "data": {
      "text/html": [
       "<div>\n",
       "<style scoped>\n",
       "    .dataframe tbody tr th:only-of-type {\n",
       "        vertical-align: middle;\n",
       "    }\n",
       "\n",
       "    .dataframe tbody tr th {\n",
       "        vertical-align: top;\n",
       "    }\n",
       "\n",
       "    .dataframe thead th {\n",
       "        text-align: right;\n",
       "    }\n",
       "</style>\n",
       "<table border=\"1\" class=\"dataframe\">\n",
       "  <thead>\n",
       "    <tr style=\"text-align: right;\">\n",
       "      <th></th>\n",
       "      <th>duration</th>\n",
       "      <th>src_port</th>\n",
       "      <th>dst_port</th>\n",
       "      <th>srctype_service</th>\n",
       "      <th>dsttype_service</th>\n",
       "      <th>num_total_packets</th>\n",
       "      <th>total_bytes</th>\n",
       "      <th>src_bytes</th>\n",
       "      <th>dir_ratio</th>\n",
       "      <th>packets_in_Sec</th>\n",
       "      <th>bytes_total_in_Sec</th>\n",
       "      <th>Source_Bytes_Sec</th>\n",
       "    </tr>\n",
       "  </thead>\n",
       "  <tbody>\n",
       "    <tr>\n",
       "      <th>count</th>\n",
       "      <td>998351</td>\n",
       "      <td>998351</td>\n",
       "      <td>998351</td>\n",
       "      <td>982560</td>\n",
       "      <td>896949</td>\n",
       "      <td>998351</td>\n",
       "      <td>998351</td>\n",
       "      <td>998351</td>\n",
       "      <td>998351</td>\n",
       "      <td>951287</td>\n",
       "      <td>998351</td>\n",
       "      <td>998320</td>\n",
       "    </tr>\n",
       "    <tr>\n",
       "      <th>mean</th>\n",
       "      <td>224.685</td>\n",
       "      <td>36859.3</td>\n",
       "      <td>10220.6</td>\n",
       "      <td>0.036239</td>\n",
       "      <td>0.000719104</td>\n",
       "      <td>65.5725</td>\n",
       "      <td>51248.4</td>\n",
       "      <td>9020.98</td>\n",
       "      <td>0.44412</td>\n",
       "      <td>2223.2</td>\n",
       "      <td>inf</td>\n",
       "      <td>inf</td>\n",
       "    </tr>\n",
       "    <tr>\n",
       "      <th>std</th>\n",
       "      <td>714.425</td>\n",
       "      <td>21598.1</td>\n",
       "      <td>1.20631e+06</td>\n",
       "      <td>2.62732</td>\n",
       "      <td>0.0426888</td>\n",
       "      <td>4977.63</td>\n",
       "      <td>4.31287e+06</td>\n",
       "      <td>1.40031e+06</td>\n",
       "      <td>0.272958</td>\n",
       "      <td>12865.1</td>\n",
       "      <td>nan</td>\n",
       "      <td>nan</td>\n",
       "    </tr>\n",
       "    <tr>\n",
       "      <th>min</th>\n",
       "      <td>0</td>\n",
       "      <td>0</td>\n",
       "      <td>0</td>\n",
       "      <td>0</td>\n",
       "      <td>0</td>\n",
       "      <td>0</td>\n",
       "      <td>58</td>\n",
       "      <td>0</td>\n",
       "      <td>0</td>\n",
       "      <td>0</td>\n",
       "      <td>0.0340369</td>\n",
       "      <td>0</td>\n",
       "    </tr>\n",
       "    <tr>\n",
       "      <th>25%</th>\n",
       "      <td>0.00038774</td>\n",
       "      <td>13363</td>\n",
       "      <td>53</td>\n",
       "      <td>0</td>\n",
       "      <td>0</td>\n",
       "      <td>1</td>\n",
       "      <td>228</td>\n",
       "      <td>77</td>\n",
       "      <td>0.260904</td>\n",
       "      <td>0.777223</td>\n",
       "      <td>308.237</td>\n",
       "      <td>79.4737</td>\n",
       "    </tr>\n",
       "    <tr>\n",
       "      <th>50%</th>\n",
       "      <td>0.102172</td>\n",
       "      <td>44891</td>\n",
       "      <td>80</td>\n",
       "      <td>0</td>\n",
       "      <td>0</td>\n",
       "      <td>2</td>\n",
       "      <td>421</td>\n",
       "      <td>170</td>\n",
       "      <td>0.376812</td>\n",
       "      <td>37.27</td>\n",
       "      <td>16041.6</td>\n",
       "      <td>3719.17</td>\n",
       "    </tr>\n",
       "    <tr>\n",
       "      <th>75%</th>\n",
       "      <td>9.08958</td>\n",
       "      <td>54839</td>\n",
       "      <td>6878</td>\n",
       "      <td>0</td>\n",
       "      <td>0</td>\n",
       "      <td>11</td>\n",
       "      <td>2390.5</td>\n",
       "      <td>1064</td>\n",
       "      <td>0.59173</td>\n",
       "      <td>2669.86</td>\n",
       "      <td>704230</td>\n",
       "      <td>209602</td>\n",
       "    </tr>\n",
       "    <tr>\n",
       "      <th>max</th>\n",
       "      <td>3659.68</td>\n",
       "      <td>65537</td>\n",
       "      <td>5.39033e+08</td>\n",
       "      <td>192</td>\n",
       "      <td>3</td>\n",
       "      <td>1.83359e+06</td>\n",
       "      <td>1.93396e+09</td>\n",
       "      <td>1.2385e+09</td>\n",
       "      <td>1.03846</td>\n",
       "      <td>1.99553e+06</td>\n",
       "      <td>inf</td>\n",
       "      <td>inf</td>\n",
       "    </tr>\n",
       "  </tbody>\n",
       "</table>\n",
       "</div>"
      ],
      "text/plain": [
       "         duration src_port     dst_port srctype_service dsttype_service  \\\n",
       "count      998351   998351       998351          982560          896949   \n",
       "mean      224.685  36859.3      10220.6        0.036239     0.000719104   \n",
       "std       714.425  21598.1  1.20631e+06         2.62732       0.0426888   \n",
       "min             0        0            0               0               0   \n",
       "25%    0.00038774    13363           53               0               0   \n",
       "50%      0.102172    44891           80               0               0   \n",
       "75%       9.08958    54839         6878               0               0   \n",
       "max       3659.68    65537  5.39033e+08             192               3   \n",
       "\n",
       "      num_total_packets  total_bytes    src_bytes dir_ratio packets_in_Sec  \\\n",
       "count            998351       998351       998351    998351         951287   \n",
       "mean            65.5725      51248.4      9020.98   0.44412         2223.2   \n",
       "std             4977.63  4.31287e+06  1.40031e+06  0.272958        12865.1   \n",
       "min                   0           58            0         0              0   \n",
       "25%                   1          228           77  0.260904       0.777223   \n",
       "50%                   2          421          170  0.376812          37.27   \n",
       "75%                  11       2390.5         1064   0.59173        2669.86   \n",
       "max         1.83359e+06  1.93396e+09   1.2385e+09   1.03846    1.99553e+06   \n",
       "\n",
       "      bytes_total_in_Sec Source_Bytes_Sec  \n",
       "count             998351           998320  \n",
       "mean                 inf              inf  \n",
       "std                  nan              nan  \n",
       "min            0.0340369                0  \n",
       "25%              308.237          79.4737  \n",
       "50%              16041.6          3719.17  \n",
       "75%               704230           209602  \n",
       "max                  inf              inf  "
      ]
     },
     "execution_count": 89,
     "metadata": {},
     "output_type": "execute_result"
    }
   ],
   "source": [
    "train_df.loc[train_df['packets_in_Sec'] != np.inf].describe().apply(lambda s: s.apply(lambda x: format(x, 'g')))"
   ]
  },
  {
   "cell_type": "code",
   "execution_count": null,
   "id": "3b12ba4b",
   "metadata": {},
   "outputs": [],
   "source": []
  }
 ],
 "metadata": {
  "kernelspec": {
   "display_name": "Python 3 (ipykernel)",
   "language": "python",
   "name": "python3"
  },
  "language_info": {
   "codemirror_mode": {
    "name": "ipython",
    "version": 3
   },
   "file_extension": ".py",
   "mimetype": "text/x-python",
   "name": "python",
   "nbconvert_exporter": "python",
   "pygments_lexer": "ipython3",
   "version": "3.8.11"
  }
 },
 "nbformat": 4,
 "nbformat_minor": 5
}
