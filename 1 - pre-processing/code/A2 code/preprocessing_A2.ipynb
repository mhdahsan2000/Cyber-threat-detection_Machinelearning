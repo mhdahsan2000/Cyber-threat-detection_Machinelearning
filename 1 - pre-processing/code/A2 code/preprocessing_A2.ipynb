{
 "cells": [
  {
   "cell_type": "markdown",
   "id": "03cdd5a5",
   "metadata": {},
   "source": [
    "     \n",
    "This code is submitted as part of project 2 for the subject COMP90073 (Security Analytics) at the University of Melbourne .\n",
    "     \n",
    "    -------------------------------------------\n",
    "    COMP90073 Security Analytics - Project 2 \n",
    "    Machine learning based Threat detection\n",
    "    \n",
    "    \n",
    "    Author : Mohammed Ahsan Kollathodi \n",
    "    Student id: 1048942.\n",
    "    "
   ]
  },
  {
   "cell_type": "markdown",
   "id": "4fa18c38",
   "metadata": {},
   "source": [
    "#### The Primary aim through this code to perform pre-processing or cleaning to the raw data provided for the task 2 of the project.  "
   ]
  },
  {
   "cell_type": "code",
   "execution_count": 2,
   "id": "26d2a330",
   "metadata": {},
   "outputs": [],
   "source": [
    "import pandas as pd\n",
    "import numpy as np\n",
    "from sklearn.preprocessing import StandardScaler, OneHotEncoder"
   ]
  },
  {
   "cell_type": "markdown",
   "id": "903d62c6",
   "metadata": {},
   "source": [
    "###  Train data "
   ]
  },
  {
   "cell_type": "markdown",
   "id": "44aee4e3",
   "metadata": {},
   "source": [
    "The dataset provided contain the NetFlow data for a network under cyberattacks. Each line of the dataset includes the following 15 fields: (1) stream ID, (2) timestamp, (3) duration, (4) protocol, (5) source IP address, (6) source port, (7) direction, (8) destination IP address, (9) destination port, (10) state, (11) source type of service, (12) destination type of service, (13) the number of total packets, (14) the number of bytes transferred in both directions, (15) the number of bytes transferred from the source to the destination.\n",
    "\n",
    "I have not labelled stream ID as it's not very relevant with respect to the project. "
   ]
  },
  {
   "cell_type": "code",
   "execution_count": 3,
   "id": "7572b4e9",
   "metadata": {},
   "outputs": [],
   "source": [
    "train_df = pd.read_csv('training_data_with_label.csv', sep=','\n",
    "                       ,names=['timestamp','duration','protocol','src_ip','src_port','direction',\n",
    "                               'dst_ip','dst_port','state','srctye_service','dsttype_service',\n",
    "                               'num_total_packets','total_bytes','src_bytes','label'])"
   ]
  },
  {
   "cell_type": "code",
   "execution_count": 4,
   "id": "16542293",
   "metadata": {},
   "outputs": [],
   "source": [
    "labels_new = pd.DataFrame(data=np.where(train_df['label'].str.contains(\"Botnet\",case=False), 1, 0),columns=[\"Botnet\"])"
   ]
  },
  {
   "cell_type": "code",
   "execution_count": 5,
   "id": "4f4288b8",
   "metadata": {},
   "outputs": [],
   "source": [
    "train_df_selected = train_df[['src_ip','dst_ip','direction','duration','num_total_packets','total_bytes','src_bytes']]\n"
   ]
  },
  {
   "cell_type": "code",
   "execution_count": 6,
   "id": "326dadbf",
   "metadata": {},
   "outputs": [],
   "source": [
    "train_df_selected = pd.concat([train_df_selected,labels_new], axis=1)"
   ]
  },
  {
   "cell_type": "code",
   "execution_count": 7,
   "id": "606e6684",
   "metadata": {},
   "outputs": [
    {
     "data": {
      "text/html": [
       "<div>\n",
       "<style scoped>\n",
       "    .dataframe tbody tr th:only-of-type {\n",
       "        vertical-align: middle;\n",
       "    }\n",
       "\n",
       "    .dataframe tbody tr th {\n",
       "        vertical-align: top;\n",
       "    }\n",
       "\n",
       "    .dataframe thead th {\n",
       "        text-align: right;\n",
       "    }\n",
       "</style>\n",
       "<table border=\"1\" class=\"dataframe\">\n",
       "  <thead>\n",
       "    <tr style=\"text-align: right;\">\n",
       "      <th></th>\n",
       "      <th>src_ip</th>\n",
       "      <th>dst_ip</th>\n",
       "      <th>direction</th>\n",
       "      <th>duration</th>\n",
       "      <th>num_total_packets</th>\n",
       "      <th>total_bytes</th>\n",
       "      <th>src_bytes</th>\n",
       "      <th>Botnet</th>\n",
       "    </tr>\n",
       "  </thead>\n",
       "  <tbody>\n",
       "    <tr>\n",
       "      <th>0</th>\n",
       "      <td>NaN</td>\n",
       "      <td>NaN</td>\n",
       "      <td>NaN</td>\n",
       "      <td>NaN</td>\n",
       "      <td>NaN</td>\n",
       "      <td>NaN</td>\n",
       "      <td>NaN</td>\n",
       "      <td>0.0</td>\n",
       "    </tr>\n",
       "    <tr>\n",
       "      <th>1</th>\n",
       "      <td>49.199.46.19</td>\n",
       "      <td>150.35.87.121</td>\n",
       "      <td>&lt;-&gt;</td>\n",
       "      <td>1823.865899</td>\n",
       "      <td>1.0</td>\n",
       "      <td>213.0</td>\n",
       "      <td>107.0</td>\n",
       "      <td>0.0</td>\n",
       "    </tr>\n",
       "    <tr>\n",
       "      <th>2</th>\n",
       "      <td>191.78.136.101</td>\n",
       "      <td>150.35.89.128</td>\n",
       "      <td>&lt;-&gt;</td>\n",
       "      <td>3616.701751</td>\n",
       "      <td>416111.0</td>\n",
       "      <td>206682147.0</td>\n",
       "      <td>181257472.0</td>\n",
       "      <td>0.0</td>\n",
       "    </tr>\n",
       "    <tr>\n",
       "      <th>3</th>\n",
       "      <td>122.2.175.95</td>\n",
       "      <td>150.35.87.17</td>\n",
       "      <td>&lt;?&gt;</td>\n",
       "      <td>2058.744475</td>\n",
       "      <td>224008.0</td>\n",
       "      <td>267775005.0</td>\n",
       "      <td>3187813.0</td>\n",
       "      <td>0.0</td>\n",
       "    </tr>\n",
       "    <tr>\n",
       "      <th>4</th>\n",
       "      <td>220.172.180.85</td>\n",
       "      <td>150.35.88.29</td>\n",
       "      <td>&lt;?&gt;</td>\n",
       "      <td>28.856103</td>\n",
       "      <td>6071.0</td>\n",
       "      <td>5664455.0</td>\n",
       "      <td>138406.0</td>\n",
       "      <td>0.0</td>\n",
       "    </tr>\n",
       "  </tbody>\n",
       "</table>\n",
       "</div>"
      ],
      "text/plain": [
       "           src_ip         dst_ip direction     duration  num_total_packets  \\\n",
       "0             NaN            NaN       NaN          NaN                NaN   \n",
       "1    49.199.46.19  150.35.87.121       <->  1823.865899                1.0   \n",
       "2  191.78.136.101  150.35.89.128       <->  3616.701751           416111.0   \n",
       "3    122.2.175.95   150.35.87.17       <?>  2058.744475           224008.0   \n",
       "4  220.172.180.85   150.35.88.29       <?>    28.856103             6071.0   \n",
       "\n",
       "   total_bytes    src_bytes  Botnet  \n",
       "0          NaN          NaN     0.0  \n",
       "1        213.0        107.0     0.0  \n",
       "2  206682147.0  181257472.0     0.0  \n",
       "3  267775005.0    3187813.0     0.0  \n",
       "4    5664455.0     138406.0     0.0  "
      ]
     },
     "execution_count": 7,
     "metadata": {},
     "output_type": "execute_result"
    }
   ],
   "source": [
    "train_df_selected.head()"
   ]
  },
  {
   "cell_type": "code",
   "execution_count": 8,
   "id": "ac688d41",
   "metadata": {},
   "outputs": [],
   "source": [
    "# packets_in_Sec to estimate the total number of packets in a unit time.\n",
    "\n",
    "train_df_selected['packets_in_Sec'] = train_df_selected['num_total_packets']/train_df_selected['duration']\n",
    "\n",
    "# bytes_total_in_Sec to estimate the total number of bytes in a unit time.\n",
    "\n",
    "train_df_selected['bytes_total_in_Sec'] = train_df_selected['total_bytes']/train_df_selected['duration']\n",
    "\n",
    "# source_Bytes_Sec to estimate the source bytes transferred in a unit time. \n",
    "\n",
    "train_df_selected['Source_Bytes_Sec'] = train_df_selected['src_bytes']/train_df_selected['duration']\n"
   ]
  },
  {
   "cell_type": "code",
   "execution_count": 13,
   "id": "6f40c91c",
   "metadata": {},
   "outputs": [],
   "source": [
    "# Filtering the training data. \n",
    "filtered_train_df =  train_df_selected[~train_df_selected.isin([np.nan, np.inf, -np.inf]).any(1)]"
   ]
  },
  {
   "cell_type": "code",
   "execution_count": 10,
   "id": "e949f9b0",
   "metadata": {},
   "outputs": [],
   "source": [
    "# Group the data by source ip address. \n",
    "group_df = filtered_train_df.groupby(['src_ip']).mean()"
   ]
  },
  {
   "cell_type": "code",
   "execution_count": 12,
   "id": "ed504faf",
   "metadata": {},
   "outputs": [
    {
     "data": {
      "text/plain": [
       "0.000000    32490\n",
       "0.333333     5599\n",
       "0.250000     3761\n",
       "0.200000     1682\n",
       "0.166667      879\n",
       "            ...  \n",
       "0.056202        1\n",
       "0.037879        1\n",
       "0.064644        1\n",
       "0.029661        1\n",
       "0.105960        1\n",
       "Name: Botnet, Length: 471, dtype: int64"
      ]
     },
     "execution_count": 12,
     "metadata": {},
     "output_type": "execute_result"
    }
   ],
   "source": [
    "# Counting the number of samples that would consist of the Botnet attack data. \n",
    "group_df['Botnet'].value_counts()"
   ]
  },
  {
   "cell_type": "code",
   "execution_count": 15,
   "id": "48a0d824",
   "metadata": {},
   "outputs": [],
   "source": [
    "group_df.loc[(group_df['Botnet'] > 0.5), 'Botnet'] = 1.0"
   ]
  },
  {
   "cell_type": "code",
   "execution_count": 16,
   "id": "b423a313",
   "metadata": {},
   "outputs": [
    {
     "data": {
      "text/html": [
       "<div>\n",
       "<style scoped>\n",
       "    .dataframe tbody tr th:only-of-type {\n",
       "        vertical-align: middle;\n",
       "    }\n",
       "\n",
       "    .dataframe tbody tr th {\n",
       "        vertical-align: top;\n",
       "    }\n",
       "\n",
       "    .dataframe thead th {\n",
       "        text-align: right;\n",
       "    }\n",
       "</style>\n",
       "<table border=\"1\" class=\"dataframe\">\n",
       "  <thead>\n",
       "    <tr style=\"text-align: right;\">\n",
       "      <th></th>\n",
       "      <th>duration</th>\n",
       "      <th>num_total_packets</th>\n",
       "      <th>total_bytes</th>\n",
       "      <th>src_bytes</th>\n",
       "      <th>Botnet</th>\n",
       "      <th>packets_in_Sec</th>\n",
       "      <th>bytes_total_in_Sec</th>\n",
       "      <th>Source_Bytes_Sec</th>\n",
       "    </tr>\n",
       "    <tr>\n",
       "      <th>src_ip</th>\n",
       "      <th></th>\n",
       "      <th></th>\n",
       "      <th></th>\n",
       "      <th></th>\n",
       "      <th></th>\n",
       "      <th></th>\n",
       "      <th></th>\n",
       "      <th></th>\n",
       "    </tr>\n",
       "  </thead>\n",
       "  <tbody>\n",
       "    <tr>\n",
       "      <th>100.104.46.220</th>\n",
       "      <td>2661.046342</td>\n",
       "      <td>10.000000</td>\n",
       "      <td>722.200000</td>\n",
       "      <td>400.000000</td>\n",
       "      <td>0.00</td>\n",
       "      <td>0.003900</td>\n",
       "      <td>0.279471</td>\n",
       "      <td>0.154669</td>\n",
       "    </tr>\n",
       "    <tr>\n",
       "      <th>100.104.70.48</th>\n",
       "      <td>1996.260106</td>\n",
       "      <td>4.000000</td>\n",
       "      <td>303.750000</td>\n",
       "      <td>165.500000</td>\n",
       "      <td>0.00</td>\n",
       "      <td>164.066083</td>\n",
       "      <td>21984.772468</td>\n",
       "      <td>11976.779030</td>\n",
       "    </tr>\n",
       "    <tr>\n",
       "      <th>100.106.5.100</th>\n",
       "      <td>67.119335</td>\n",
       "      <td>3.500000</td>\n",
       "      <td>367.250000</td>\n",
       "      <td>260.000000</td>\n",
       "      <td>0.25</td>\n",
       "      <td>1276.200709</td>\n",
       "      <td>153622.993734</td>\n",
       "      <td>115767.499796</td>\n",
       "    </tr>\n",
       "    <tr>\n",
       "      <th>100.107.147.140</th>\n",
       "      <td>208.207561</td>\n",
       "      <td>2.750000</td>\n",
       "      <td>1308.750000</td>\n",
       "      <td>531.500000</td>\n",
       "      <td>0.00</td>\n",
       "      <td>617.074478</td>\n",
       "      <td>117063.292990</td>\n",
       "      <td>88074.451915</td>\n",
       "    </tr>\n",
       "    <tr>\n",
       "      <th>100.110.43.251</th>\n",
       "      <td>0.247294</td>\n",
       "      <td>2.166667</td>\n",
       "      <td>155.833333</td>\n",
       "      <td>85.833333</td>\n",
       "      <td>0.00</td>\n",
       "      <td>2001.622342</td>\n",
       "      <td>144130.804035</td>\n",
       "      <td>79320.056252</td>\n",
       "    </tr>\n",
       "  </tbody>\n",
       "</table>\n",
       "</div>"
      ],
      "text/plain": [
       "                    duration  num_total_packets  total_bytes   src_bytes  \\\n",
       "src_ip                                                                     \n",
       "100.104.46.220   2661.046342          10.000000   722.200000  400.000000   \n",
       "100.104.70.48    1996.260106           4.000000   303.750000  165.500000   \n",
       "100.106.5.100      67.119335           3.500000   367.250000  260.000000   \n",
       "100.107.147.140   208.207561           2.750000  1308.750000  531.500000   \n",
       "100.110.43.251      0.247294           2.166667   155.833333   85.833333   \n",
       "\n",
       "                 Botnet  packets_in_Sec  bytes_total_in_Sec  Source_Bytes_Sec  \n",
       "src_ip                                                                         \n",
       "100.104.46.220     0.00        0.003900            0.279471          0.154669  \n",
       "100.104.70.48      0.00      164.066083        21984.772468      11976.779030  \n",
       "100.106.5.100      0.25     1276.200709       153622.993734     115767.499796  \n",
       "100.107.147.140    0.00      617.074478       117063.292990      88074.451915  \n",
       "100.110.43.251     0.00     2001.622342       144130.804035      79320.056252  "
      ]
     },
     "execution_count": 16,
     "metadata": {},
     "output_type": "execute_result"
    }
   ],
   "source": [
    "group_df.head()"
   ]
  },
  {
   "cell_type": "code",
   "execution_count": 17,
   "id": "32e389f3",
   "metadata": {},
   "outputs": [],
   "source": [
    "# Save as output CSV. \n",
    "group_df.to_csv('training_data_with_ip_A2.csv', sep=',')\n"
   ]
  },
  {
   "cell_type": "markdown",
   "id": "e58b95f7",
   "metadata": {},
   "source": [
    "###  Test data "
   ]
  },
  {
   "cell_type": "code",
   "execution_count": 22,
   "id": "11028470",
   "metadata": {},
   "outputs": [],
   "source": [
    "test_df = pd.read_csv('test_data_with_label.csv', sep=','\n",
    "                       ,names=['timestamp','duration','protocol','src_ip','src_port','direction',\n",
    "                               'dst_ip','dst_port','state','srctye_service','dsttype_service',\n",
    "                               'num_total_packets','total_bytes','src_bytes','label'])"
   ]
  },
  {
   "cell_type": "code",
   "execution_count": 24,
   "id": "c46941dd",
   "metadata": {},
   "outputs": [],
   "source": [
    "label_new_test = pd.DataFrame(data=np.where(test_df['label'].str.contains(\"Botnet\",case=False), 1, 0),columns=[\"Botnet\"])"
   ]
  },
  {
   "cell_type": "code",
   "execution_count": 29,
   "id": "2e7bba06",
   "metadata": {},
   "outputs": [],
   "source": [
    "# Seletected features. \n",
    "test_df_selected = test_df[['src_ip','dst_ip','direction','duration','num_total_packets','total_bytes','src_bytes']]"
   ]
  },
  {
   "cell_type": "code",
   "execution_count": 30,
   "id": "9f1009bb",
   "metadata": {},
   "outputs": [],
   "source": [
    "test_df_selected = pd.concat([test_df_selected,label_new_test], axis=1)"
   ]
  },
  {
   "cell_type": "code",
   "execution_count": 31,
   "id": "77f6b2ab",
   "metadata": {},
   "outputs": [
    {
     "data": {
      "text/html": [
       "<div>\n",
       "<style scoped>\n",
       "    .dataframe tbody tr th:only-of-type {\n",
       "        vertical-align: middle;\n",
       "    }\n",
       "\n",
       "    .dataframe tbody tr th {\n",
       "        vertical-align: top;\n",
       "    }\n",
       "\n",
       "    .dataframe thead th {\n",
       "        text-align: right;\n",
       "    }\n",
       "</style>\n",
       "<table border=\"1\" class=\"dataframe\">\n",
       "  <thead>\n",
       "    <tr style=\"text-align: right;\">\n",
       "      <th></th>\n",
       "      <th>src_ip</th>\n",
       "      <th>dst_ip</th>\n",
       "      <th>direction</th>\n",
       "      <th>duration</th>\n",
       "      <th>num_total_packets</th>\n",
       "      <th>total_bytes</th>\n",
       "      <th>src_bytes</th>\n",
       "      <th>Botnet</th>\n",
       "    </tr>\n",
       "  </thead>\n",
       "  <tbody>\n",
       "    <tr>\n",
       "      <th>0</th>\n",
       "      <td>NaN</td>\n",
       "      <td>NaN</td>\n",
       "      <td>NaN</td>\n",
       "      <td>NaN</td>\n",
       "      <td>NaN</td>\n",
       "      <td>NaN</td>\n",
       "      <td>NaN</td>\n",
       "      <td>0.0</td>\n",
       "    </tr>\n",
       "    <tr>\n",
       "      <th>1</th>\n",
       "      <td>85.4.198.159</td>\n",
       "      <td>150.35.87.121</td>\n",
       "      <td>&lt;-&gt;</td>\n",
       "      <td>1998.730056</td>\n",
       "      <td>1.0</td>\n",
       "      <td>214.0</td>\n",
       "      <td>106.0</td>\n",
       "      <td>0.0</td>\n",
       "    </tr>\n",
       "    <tr>\n",
       "      <th>2</th>\n",
       "      <td>154.31.224.125</td>\n",
       "      <td>150.35.87.121</td>\n",
       "      <td>&lt;-&gt;</td>\n",
       "      <td>1959.888200</td>\n",
       "      <td>1.0</td>\n",
       "      <td>214.0</td>\n",
       "      <td>107.0</td>\n",
       "      <td>0.0</td>\n",
       "    </tr>\n",
       "    <tr>\n",
       "      <th>3</th>\n",
       "      <td>93.186.104.171</td>\n",
       "      <td>150.35.89.92</td>\n",
       "      <td>&lt;?&gt;</td>\n",
       "      <td>14.908785</td>\n",
       "      <td>8.0</td>\n",
       "      <td>3166.0</td>\n",
       "      <td>2979.0</td>\n",
       "      <td>0.0</td>\n",
       "    </tr>\n",
       "    <tr>\n",
       "      <th>4</th>\n",
       "      <td>92.188.3.136</td>\n",
       "      <td>150.35.89.110</td>\n",
       "      <td>&lt;?&gt;</td>\n",
       "      <td>0.001743</td>\n",
       "      <td>4.0</td>\n",
       "      <td>600.0</td>\n",
       "      <td>457.0</td>\n",
       "      <td>0.0</td>\n",
       "    </tr>\n",
       "  </tbody>\n",
       "</table>\n",
       "</div>"
      ],
      "text/plain": [
       "           src_ip         dst_ip direction     duration  num_total_packets  \\\n",
       "0             NaN            NaN       NaN          NaN                NaN   \n",
       "1    85.4.198.159  150.35.87.121       <->  1998.730056                1.0   \n",
       "2  154.31.224.125  150.35.87.121       <->  1959.888200                1.0   \n",
       "3  93.186.104.171   150.35.89.92       <?>    14.908785                8.0   \n",
       "4    92.188.3.136  150.35.89.110       <?>     0.001743                4.0   \n",
       "\n",
       "   total_bytes  src_bytes  Botnet  \n",
       "0          NaN        NaN     0.0  \n",
       "1        214.0      106.0     0.0  \n",
       "2        214.0      107.0     0.0  \n",
       "3       3166.0     2979.0     0.0  \n",
       "4        600.0      457.0     0.0  "
      ]
     },
     "execution_count": 31,
     "metadata": {},
     "output_type": "execute_result"
    }
   ],
   "source": [
    "test_df_selected.head()"
   ]
  },
  {
   "cell_type": "code",
   "execution_count": 32,
   "id": "3c687d95",
   "metadata": {},
   "outputs": [],
   "source": [
    "# packets_in_Sec to estimate the total number of packets in a unit time.\n",
    "\n",
    "test_df_selected['packets_in_Sec'] = test_df_selected['num_total_packets']/test_df_selected['duration']\n",
    "\n",
    "# bytes_total_in_Sec to estimate the total number of bytes in a unit time.\n",
    "\n",
    "test_df_selected['bytes_total_in_Sec'] = test_df_selected['total_bytes']/test_df_selected['duration']\n",
    "\n",
    "# source_Bytes_Sec to estimate the source bytes transferred in a unit time. \n",
    "\n",
    "test_df_selected['Source_Bytes_Sec'] = test_df_selected['src_bytes']/test_df_selected['duration']\n"
   ]
  },
  {
   "cell_type": "code",
   "execution_count": 34,
   "id": "14daebc4",
   "metadata": {},
   "outputs": [],
   "source": [
    "# Filter the test data. \n",
    "filtered_test_df = test_df_selected[~test_df_selected.isin([np.nan, np.inf, -np.inf]).any(1)]\n"
   ]
  },
  {
   "cell_type": "code",
   "execution_count": 35,
   "id": "93307cce",
   "metadata": {},
   "outputs": [],
   "source": [
    "group_test_df = filtered_test_df.groupby(['src_ip']).mean()"
   ]
  },
  {
   "cell_type": "code",
   "execution_count": 36,
   "id": "dc9cc2e6",
   "metadata": {},
   "outputs": [
    {
     "data": {
      "text/plain": [
       "0.000000    224172\n",
       "1.000000     21659\n",
       "0.500000     12186\n",
       "0.333333      2088\n",
       "0.666667       192\n",
       "0.492925         1\n",
       "0.498261         1\n",
       "0.478807         1\n",
       "0.413832         1\n",
       "Name: Botnet, dtype: int64"
      ]
     },
     "execution_count": 36,
     "metadata": {},
     "output_type": "execute_result"
    }
   ],
   "source": [
    "# Checking for the Botnet data and for the botnet attack.\n",
    "group_test_df['Botnet'].value_counts()"
   ]
  },
  {
   "cell_type": "code",
   "execution_count": 37,
   "id": "6d651208",
   "metadata": {},
   "outputs": [],
   "source": [
    "group_test_df.loc[(group_test_df['Botnet'] > 0.5), 'Botnet'] = 1.0"
   ]
  },
  {
   "cell_type": "code",
   "execution_count": 38,
   "id": "f68c830e",
   "metadata": {},
   "outputs": [],
   "source": [
    "group_test_df.to_csv('test_data_with_ip_A2.csv', sep=',')"
   ]
  },
  {
   "cell_type": "code",
   "execution_count": null,
   "id": "697c8152",
   "metadata": {},
   "outputs": [],
   "source": []
  }
 ],
 "metadata": {
  "kernelspec": {
   "display_name": "Python 3 (ipykernel)",
   "language": "python",
   "name": "python3"
  },
  "language_info": {
   "codemirror_mode": {
    "name": "ipython",
    "version": 3
   },
   "file_extension": ".py",
   "mimetype": "text/x-python",
   "name": "python",
   "nbconvert_exporter": "python",
   "pygments_lexer": "ipython3",
   "version": "3.8.11"
  }
 },
 "nbformat": 4,
 "nbformat_minor": 5
}
