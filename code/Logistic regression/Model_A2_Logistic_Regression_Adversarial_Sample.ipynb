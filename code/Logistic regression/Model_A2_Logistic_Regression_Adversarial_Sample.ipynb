{
 "cells": [
  {
   "cell_type": "code",
   "execution_count": 2,
   "id": "d581b866",
   "metadata": {},
   "outputs": [],
   "source": [
    "import pandas as pd \n",
    "import numpy as np \n",
    "from sklearn import preprocessing \n",
    "from sklearn import utils \n",
    "from sklearn.linear_model import LogisticRegression\n",
    "from sklearn.preprocessing import StandardScaler"
   ]
  },
  {
   "cell_type": "markdown",
   "id": "44242184",
   "metadata": {},
   "source": [
    "This code is submitted as part of project 2 for the subject COMP90037 (Security Analytics) at the University of  Melbourne .\n",
    "     \n",
    "    -------------------------------------------\n",
    "    COMP90037 Security Analytics - Project 2 \n",
    "    Machine learning based Threat detection\n",
    "\n",
    "    Author : Mohammed Ahsan Kollathodi \n",
    "    Student id: 1048942.\n",
    "    "
   ]
  },
  {
   "cell_type": "markdown",
   "id": "4931056d",
   "metadata": {},
   "source": [
    "### The Logistic Regression Classifier "
   ]
  },
  {
   "cell_type": "markdown",
   "id": "7c42ce04",
   "metadata": {},
   "source": [
    "The logistic regression is one of the most common classification algorithm that's widely used in machine learning problems. It is used when the value of the targert variable is categorical in nature. Logistic regression is most commonly used when the data that we could consider has a binary output, so it belongs to one class or another with values of 0 or 1. \n",
    "\n",
    "Here by the idea of regression model to solve the classification problem, we would rationally raise a question of whether we can draw a hypothesis function to fit to the binary dataset. \n",
    "\n",
    "Reference : https://kambria.io/blog/logistic-regression-for-machine-learning/\n",
    "\n"
   ]
  },
  {
   "cell_type": "markdown",
   "id": "a25d6c6a",
   "metadata": {},
   "source": [
    "### Model"
   ]
  },
  {
   "cell_type": "code",
   "execution_count": 3,
   "id": "b70ac956",
   "metadata": {},
   "outputs": [],
   "source": [
    "train = pd.read_csv('training_data_with_ip_A2.csv', sep=',')"
   ]
  },
  {
   "cell_type": "code",
   "execution_count": 4,
   "id": "19eef8e0",
   "metadata": {},
   "outputs": [
    {
     "name": "stdout",
     "output_type": "stream",
     "text": [
      "[  0   0 418 ...   0   0   0]\n"
     ]
    },
    {
     "name": "stderr",
     "output_type": "stream",
     "text": [
      "/var/folders/3c/0p84rf_94y92bbvwmt4vtjl00000gn/T/ipykernel_96191/3253761529.py:2: FutureWarning: In a future version of pandas all arguments of DataFrame.drop except for the argument 'labels' will be keyword-only\n",
      "  X_train = train.drop(['Botnet','src_ip'],1)\n",
      "/Users/ahsan/anaconda3/lib/python3.8/site-packages/sklearn/utils/validation.py:63: DataConversionWarning: A column-vector y was passed when a 1d array was expected. Please change the shape of y to (n_samples, ), for example using ravel().\n",
      "  return f(*args, **kwargs)\n"
     ]
    }
   ],
   "source": [
    "# Train set of features. \n",
    "X_train = train.drop(['Botnet','src_ip'],1)\n",
    "\n",
    "# Train set of labels. \n",
    "Y_train = train[['Botnet']]\n",
    "\n",
    "# Encode the labels using label Encoder from sklearn. \n",
    "lab_enc = preprocessing.LabelEncoder() \n",
    "\n",
    "\n",
    "# Encode the train set labels with the label encoder. \n",
    "trainencoded = lab_enc.fit_transform(Y_train)\n",
    "print(trainencoded)\n",
    "\n"
   ]
  },
  {
   "cell_type": "code",
   "execution_count": 6,
   "id": "42e7d928",
   "metadata": {},
   "outputs": [
    {
     "name": "stdout",
     "output_type": "stream",
     "text": [
      "[  0   0 418 ...   0   0   0]\n"
     ]
    },
    {
     "name": "stderr",
     "output_type": "stream",
     "text": [
      "/Users/ahsan/anaconda3/lib/python3.8/site-packages/sklearn/linear_model/_logistic.py:763: ConvergenceWarning: lbfgs failed to converge (status=1):\n",
      "STOP: TOTAL NO. of ITERATIONS REACHED LIMIT.\n",
      "\n",
      "Increase the number of iterations (max_iter) or scale the data as shown in:\n",
      "    https://scikit-learn.org/stable/modules/preprocessing.html\n",
      "Please also refer to the documentation for alternative solver options:\n",
      "    https://scikit-learn.org/stable/modules/linear_model.html#logistic-regression\n",
      "  n_iter_i = _check_optimize_result(\n"
     ]
    }
   ],
   "source": [
    "# reshape the set of labels using ravel. \n",
    "Y_train = np.ravel(trainencoded)\n",
    "print(Y_train)\n",
    "\n",
    "# Build the LR model . \n",
    "model = LogisticRegression(solver = 'lbfgs', max_iter=1000).fit(X_train, Y_train.astype(int))"
   ]
  },
  {
   "cell_type": "code",
   "execution_count": null,
   "id": "6d910413",
   "metadata": {},
   "outputs": [],
   "source": [
    "test = pd.read_csv('test_data_with_ip_A2.csv', sep=',')"
   ]
  },
  {
   "cell_type": "markdown",
   "id": "9af9badb",
   "metadata": {},
   "source": [
    "Train and Test data set format : \n",
    "-------------------------------------------------\n",
    "\n",
    "        Column no.                        name \n",
    "                    \n",
    "                1.                        src_ip\n",
    "                2.                        duration \n",
    "                3.                        num_total_packets\n",
    "                4.                        total_bytes\n",
    "                5.                        src_bytes\n",
    "                6.                        packets_in_Sec\n",
    "                7.                        bytes_total_in_Sec\n",
    "                8.                        Source_bytes_Sec\n",
    "                9.                        Botnet - label    \n",
    "            \n",
    "           \n",
    "            \n",
    "\n",
    "\n"
   ]
  },
  {
   "cell_type": "markdown",
   "id": "4164d331",
   "metadata": {},
   "source": []
  },
  {
   "cell_type": "code",
   "execution_count": null,
   "id": "9b6d4fea",
   "metadata": {},
   "outputs": [],
   "source": [
    "X_test = test.drop(['Botnet','src_ip'],1)\n",
    "Y_test = test[['Botnet']]"
   ]
  },
  {
   "cell_type": "code",
   "execution_count": null,
   "id": "a519678e",
   "metadata": {},
   "outputs": [],
   "source": [
    "# Encode the test set labels with the label encoder. \n",
    "testencoded = lab_enc.fit_transform(Y_test)\n",
    "\n",
    "# reshape the test labels using ravel. \n",
    "Y_test = np.ravel(Y_test)\n"
   ]
  },
  {
   "cell_type": "code",
   "execution_count": null,
   "id": "70fd2ab1",
   "metadata": {},
   "outputs": [],
   "source": [
    "X_test.head()"
   ]
  },
  {
   "cell_type": "code",
   "execution_count": 10,
   "id": "50562333",
   "metadata": {},
   "outputs": [
    {
     "data": {
      "text/plain": [
       "0.8611876250955625"
      ]
     },
     "execution_count": 10,
     "metadata": {},
     "output_type": "execute_result"
    }
   ],
   "source": [
    "# Generate the model score with the test set features and label encoded test labels. \n",
    "# testencoded is the Y_test encoded with labels. \n",
    "model.score(X_test,testencoded)  "
   ]
  },
  {
   "cell_type": "code",
   "execution_count": 11,
   "id": "d0e2480b",
   "metadata": {},
   "outputs": [],
   "source": [
    "# predicted set of values. \n",
    "predict_value = pd.DataFrame(model.predict(X_test),columns=['Predictions'])"
   ]
  },
  {
   "cell_type": "code",
   "execution_count": 16,
   "id": "936f061a",
   "metadata": {},
   "outputs": [],
   "source": [
    "# Final result with the source ip and Botnet. \n",
    "final_result = pd.concat([test[['src_ip','Botnet']].copy(),predict_value], axis=1)"
   ]
  },
  {
   "cell_type": "markdown",
   "id": "d123ac0b",
   "metadata": {},
   "source": []
  },
  {
   "cell_type": "code",
   "execution_count": 17,
   "id": "1a1d60b5",
   "metadata": {},
   "outputs": [
    {
     "data": {
      "text/html": [
       "<div>\n",
       "<style scoped>\n",
       "    .dataframe tbody tr th:only-of-type {\n",
       "        vertical-align: middle;\n",
       "    }\n",
       "\n",
       "    .dataframe tbody tr th {\n",
       "        vertical-align: top;\n",
       "    }\n",
       "\n",
       "    .dataframe thead th {\n",
       "        text-align: right;\n",
       "    }\n",
       "</style>\n",
       "<table border=\"1\" class=\"dataframe\">\n",
       "  <thead>\n",
       "    <tr style=\"text-align: right;\">\n",
       "      <th></th>\n",
       "      <th>src_ip</th>\n",
       "      <th>Botnet</th>\n",
       "      <th>Predictions</th>\n",
       "    </tr>\n",
       "  </thead>\n",
       "  <tbody>\n",
       "    <tr>\n",
       "      <th>0</th>\n",
       "      <td>100.100.101.69</td>\n",
       "      <td>0.000000</td>\n",
       "      <td>0</td>\n",
       "    </tr>\n",
       "    <tr>\n",
       "      <th>1</th>\n",
       "      <td>100.100.117.223</td>\n",
       "      <td>0.000000</td>\n",
       "      <td>0</td>\n",
       "    </tr>\n",
       "    <tr>\n",
       "      <th>2</th>\n",
       "      <td>100.100.140.59</td>\n",
       "      <td>0.000000</td>\n",
       "      <td>0</td>\n",
       "    </tr>\n",
       "    <tr>\n",
       "      <th>3</th>\n",
       "      <td>100.100.151.53</td>\n",
       "      <td>0.000000</td>\n",
       "      <td>0</td>\n",
       "    </tr>\n",
       "    <tr>\n",
       "      <th>4</th>\n",
       "      <td>100.100.163.162</td>\n",
       "      <td>0.333333</td>\n",
       "      <td>0</td>\n",
       "    </tr>\n",
       "  </tbody>\n",
       "</table>\n",
       "</div>"
      ],
      "text/plain": [
       "            src_ip    Botnet  Predictions\n",
       "0   100.100.101.69  0.000000            0\n",
       "1  100.100.117.223  0.000000            0\n",
       "2   100.100.140.59  0.000000            0\n",
       "3   100.100.151.53  0.000000            0\n",
       "4  100.100.163.162  0.333333            0"
      ]
     },
     "execution_count": 17,
     "metadata": {},
     "output_type": "execute_result"
    }
   ],
   "source": [
    "# display the result \n",
    "final_result.head(5)\n"
   ]
  },
  {
   "cell_type": "markdown",
   "id": "2a8698d1",
   "metadata": {},
   "source": [
    "### Adversarial sample "
   ]
  },
  {
   "cell_type": "markdown",
   "id": "c3836f67",
   "metadata": {},
   "source": [
    "What is an adversarial sample ? \n",
    "\n",
    "An adversarial sample is an instance with small, intentional feature perturbations that would cause a machine learning model to result in false predictions. \n",
    "\n",
    "[Reference : https://towardsdatascience.com/adversarial-examples-in-deep-learning-be0b08a94953]\n",
    "\n"
   ]
  },
  {
   "cell_type": "code",
   "execution_count": 18,
   "id": "4707fb0e",
   "metadata": {},
   "outputs": [],
   "source": [
    "ip_addr = X_test.iloc[[1]]"
   ]
  },
  {
   "cell_type": "code",
   "execution_count": 19,
   "id": "350014ca",
   "metadata": {},
   "outputs": [],
   "source": [
    "ytest= test[['Botnet']]"
   ]
  },
  {
   "cell_type": "code",
   "execution_count": 20,
   "id": "3edf1cbe",
   "metadata": {},
   "outputs": [],
   "source": [
    "label =  ytest.iloc[[1]]"
   ]
  },
  {
   "cell_type": "code",
   "execution_count": 21,
   "id": "83486038",
   "metadata": {},
   "outputs": [],
   "source": [
    "# Adverserial sample. \n",
    "\n",
    "epsilon = 50\n",
    "direction = 1 \n",
    "\n",
    "# Adversarial sample - adv_sample . \n",
    "adv_sample = ip_addr.values + epsilon * direction"
   ]
  },
  {
   "cell_type": "code",
   "execution_count": 22,
   "id": "206e02f4",
   "metadata": {},
   "outputs": [
    {
     "name": "stdout",
     "output_type": "stream",
     "text": [
      "[[1762.70057078   54.5        1150.          998.           68.55586618\n",
      "  9568.8065401  8455.48901833]]\n"
     ]
    }
   ],
   "source": [
    "print(adv_sample)"
   ]
  },
  {
   "cell_type": "code",
   "execution_count": 23,
   "id": "a3c3ac49",
   "metadata": {},
   "outputs": [],
   "source": [
    "X_test.iloc[[1]] = adv_sample"
   ]
  },
  {
   "cell_type": "code",
   "execution_count": 24,
   "id": "7529df10",
   "metadata": {},
   "outputs": [
    {
     "data": {
      "text/html": [
       "<div>\n",
       "<style scoped>\n",
       "    .dataframe tbody tr th:only-of-type {\n",
       "        vertical-align: middle;\n",
       "    }\n",
       "\n",
       "    .dataframe tbody tr th {\n",
       "        vertical-align: top;\n",
       "    }\n",
       "\n",
       "    .dataframe thead th {\n",
       "        text-align: right;\n",
       "    }\n",
       "</style>\n",
       "<table border=\"1\" class=\"dataframe\">\n",
       "  <thead>\n",
       "    <tr style=\"text-align: right;\">\n",
       "      <th></th>\n",
       "      <th>duration</th>\n",
       "      <th>num_total_packets</th>\n",
       "      <th>total_bytes</th>\n",
       "      <th>src_bytes</th>\n",
       "      <th>packets_in_Sec</th>\n",
       "      <th>bytes_total_in_Sec</th>\n",
       "      <th>Source_Bytes_Sec</th>\n",
       "    </tr>\n",
       "  </thead>\n",
       "  <tbody>\n",
       "    <tr>\n",
       "      <th>0</th>\n",
       "      <td>0.001515</td>\n",
       "      <td>2.000000</td>\n",
       "      <td>127.0</td>\n",
       "      <td>59.000000</td>\n",
       "      <td>1320.469628</td>\n",
       "      <td>83849.821403</td>\n",
       "      <td>38953.854037</td>\n",
       "    </tr>\n",
       "    <tr>\n",
       "      <th>1</th>\n",
       "      <td>1762.700571</td>\n",
       "      <td>54.500000</td>\n",
       "      <td>1150.0</td>\n",
       "      <td>998.000000</td>\n",
       "      <td>68.555866</td>\n",
       "      <td>9568.806540</td>\n",
       "      <td>8455.489018</td>\n",
       "    </tr>\n",
       "    <tr>\n",
       "      <th>2</th>\n",
       "      <td>0.000563</td>\n",
       "      <td>2.000000</td>\n",
       "      <td>127.0</td>\n",
       "      <td>60.000000</td>\n",
       "      <td>3553.666588</td>\n",
       "      <td>225657.828334</td>\n",
       "      <td>106609.997638</td>\n",
       "    </tr>\n",
       "    <tr>\n",
       "      <th>3</th>\n",
       "      <td>1169.036049</td>\n",
       "      <td>3.333333</td>\n",
       "      <td>307.0</td>\n",
       "      <td>169.666667</td>\n",
       "      <td>879.848846</td>\n",
       "      <td>145174.861898</td>\n",
       "      <td>92383.984864</td>\n",
       "    </tr>\n",
       "    <tr>\n",
       "      <th>4</th>\n",
       "      <td>1017.529307</td>\n",
       "      <td>4.333333</td>\n",
       "      <td>3087.0</td>\n",
       "      <td>120.000000</td>\n",
       "      <td>985.382515</td>\n",
       "      <td>235806.245078</td>\n",
       "      <td>75458.505848</td>\n",
       "    </tr>\n",
       "  </tbody>\n",
       "</table>\n",
       "</div>"
      ],
      "text/plain": [
       "      duration  num_total_packets  total_bytes   src_bytes  packets_in_Sec  \\\n",
       "0     0.001515           2.000000        127.0   59.000000     1320.469628   \n",
       "1  1762.700571          54.500000       1150.0  998.000000       68.555866   \n",
       "2     0.000563           2.000000        127.0   60.000000     3553.666588   \n",
       "3  1169.036049           3.333333        307.0  169.666667      879.848846   \n",
       "4  1017.529307           4.333333       3087.0  120.000000      985.382515   \n",
       "\n",
       "   bytes_total_in_Sec  Source_Bytes_Sec  \n",
       "0        83849.821403      38953.854037  \n",
       "1         9568.806540       8455.489018  \n",
       "2       225657.828334     106609.997638  \n",
       "3       145174.861898      92383.984864  \n",
       "4       235806.245078      75458.505848  "
      ]
     },
     "execution_count": 24,
     "metadata": {},
     "output_type": "execute_result"
    }
   ],
   "source": [
    "X_test.head()"
   ]
  },
  {
   "cell_type": "code",
   "execution_count": 25,
   "id": "7181e030",
   "metadata": {},
   "outputs": [],
   "source": [
    "predictions = pd.DataFrame(model.predict(X_test),columns=['Predictions'])"
   ]
  },
  {
   "cell_type": "code",
   "execution_count": 26,
   "id": "536949c4",
   "metadata": {},
   "outputs": [],
   "source": [
    "final_result = pd.concat([test[['src_ip','Botnet']].copy(),predictions], axis=1)"
   ]
  },
  {
   "cell_type": "code",
   "execution_count": 27,
   "id": "049b1ec1",
   "metadata": {},
   "outputs": [
    {
     "data": {
      "text/plain": [
       "0.8611876250955625"
      ]
     },
     "execution_count": 27,
     "metadata": {},
     "output_type": "execute_result"
    }
   ],
   "source": [
    "model.score(X_test,testencoded)"
   ]
  },
  {
   "cell_type": "code",
   "execution_count": 28,
   "id": "c391191d",
   "metadata": {},
   "outputs": [
    {
     "data": {
      "text/html": [
       "<div>\n",
       "<style scoped>\n",
       "    .dataframe tbody tr th:only-of-type {\n",
       "        vertical-align: middle;\n",
       "    }\n",
       "\n",
       "    .dataframe tbody tr th {\n",
       "        vertical-align: top;\n",
       "    }\n",
       "\n",
       "    .dataframe thead th {\n",
       "        text-align: right;\n",
       "    }\n",
       "</style>\n",
       "<table border=\"1\" class=\"dataframe\">\n",
       "  <thead>\n",
       "    <tr style=\"text-align: right;\">\n",
       "      <th></th>\n",
       "      <th>src_ip</th>\n",
       "      <th>Botnet</th>\n",
       "      <th>Predictions</th>\n",
       "    </tr>\n",
       "  </thead>\n",
       "  <tbody>\n",
       "    <tr>\n",
       "      <th>0</th>\n",
       "      <td>100.100.101.69</td>\n",
       "      <td>0.000000</td>\n",
       "      <td>0</td>\n",
       "    </tr>\n",
       "    <tr>\n",
       "      <th>1</th>\n",
       "      <td>100.100.117.223</td>\n",
       "      <td>0.000000</td>\n",
       "      <td>0</td>\n",
       "    </tr>\n",
       "    <tr>\n",
       "      <th>2</th>\n",
       "      <td>100.100.140.59</td>\n",
       "      <td>0.000000</td>\n",
       "      <td>0</td>\n",
       "    </tr>\n",
       "    <tr>\n",
       "      <th>3</th>\n",
       "      <td>100.100.151.53</td>\n",
       "      <td>0.000000</td>\n",
       "      <td>0</td>\n",
       "    </tr>\n",
       "    <tr>\n",
       "      <th>4</th>\n",
       "      <td>100.100.163.162</td>\n",
       "      <td>0.333333</td>\n",
       "      <td>0</td>\n",
       "    </tr>\n",
       "  </tbody>\n",
       "</table>\n",
       "</div>"
      ],
      "text/plain": [
       "            src_ip    Botnet  Predictions\n",
       "0   100.100.101.69  0.000000            0\n",
       "1  100.100.117.223  0.000000            0\n",
       "2   100.100.140.59  0.000000            0\n",
       "3   100.100.151.53  0.000000            0\n",
       "4  100.100.163.162  0.333333            0"
      ]
     },
     "execution_count": 28,
     "metadata": {},
     "output_type": "execute_result"
    }
   ],
   "source": [
    "final_result.head()"
   ]
  },
  {
   "cell_type": "markdown",
   "id": "1af415de",
   "metadata": {},
   "source": [
    "### Model with perturbed data "
   ]
  },
  {
   "cell_type": "code",
   "execution_count": 29,
   "id": "229ac983",
   "metadata": {},
   "outputs": [],
   "source": [
    "perturbed_test = pd.read_csv('test_data_with_ip_perturbed_A2.csv', sep=',')"
   ]
  },
  {
   "cell_type": "code",
   "execution_count": 30,
   "id": "bf6bd005",
   "metadata": {},
   "outputs": [
    {
     "name": "stderr",
     "output_type": "stream",
     "text": [
      "/var/folders/3c/0p84rf_94y92bbvwmt4vtjl00000gn/T/ipykernel_30851/2439567288.py:3: FutureWarning: In a future version of pandas all arguments of DataFrame.drop except for the argument 'labels' will be keyword-only\n",
      "  X_test_perturbed_set = perturbed_test.drop(['Botnet','src_ip'],1)\n"
     ]
    }
   ],
   "source": [
    "# perturbed test set features. \n",
    "\n",
    "X_test_perturbed_set = perturbed_test.drop(['Botnet','src_ip'],1)\n",
    "\n",
    "# perturbed test set labels.\n",
    "\n",
    "Y_test_perturbed_set = perturbed_test[['Botnet']]"
   ]
  },
  {
   "cell_type": "code",
   "execution_count": 35,
   "id": "dddc6615",
   "metadata": {},
   "outputs": [
    {
     "name": "stderr",
     "output_type": "stream",
     "text": [
      "/Users/ahsan/anaconda3/lib/python3.8/site-packages/sklearn/utils/validation.py:63: DataConversionWarning: A column-vector y was passed when a 1d array was expected. Please change the shape of y to (n_samples, ), for example using ravel().\n",
      "  return f(*args, **kwargs)\n"
     ]
    }
   ],
   "source": [
    "perturbed_test.head()\n",
    "\n",
    "# Encode the test labels. \n",
    "\n",
    "testpert_encoded = lab_enc.fit_transform(Y_test_perturbed_set)"
   ]
  },
  {
   "cell_type": "code",
   "execution_count": 36,
   "id": "dfeceb17",
   "metadata": {},
   "outputs": [
    {
     "data": {
      "text/plain": [
       "0.8611876250955625"
      ]
     },
     "execution_count": 36,
     "metadata": {},
     "output_type": "execute_result"
    }
   ],
   "source": [
    "# model score for the perturbed test dataset with ip. \n",
    "model.score(X_test_perturbed_set,testpert_encoded)"
   ]
  },
  {
   "cell_type": "code",
   "execution_count": 37,
   "id": "7b4b90a0",
   "metadata": {},
   "outputs": [],
   "source": [
    "# predictions. \n",
    "predictions = pd.DataFrame(model.predict(X_test_perturbed_set),columns=['Predictions'])"
   ]
  },
  {
   "cell_type": "code",
   "execution_count": 38,
   "id": "dd0aacdb",
   "metadata": {},
   "outputs": [
    {
     "name": "stdout",
     "output_type": "stream",
     "text": [
      "accuracy :\n",
      "0.8611876250955625\n",
      "Confusion matrix:\n",
      "[[224168      4      0      0      0      0      0      0]\n",
      " [  2088      0      0      0      0      0      0      0]\n",
      " [     1      0      0      0      0      0      0      0]\n",
      " [     1      0      0      0      0      0      0      0]\n",
      " [     1      0      0      0      0      0      0      0]\n",
      " [     1      0      0      0      0      0      0      0]\n",
      " [ 12186      0      0      0      0      0      0      0]\n",
      " [ 21850      1      0      0      0      0      0      0]]\n"
     ]
    }
   ],
   "source": [
    "from sklearn.metrics import confusion_matrix, accuracy_score\n",
    "# Accuracy and confusion matrix. \n",
    "# accuracy = accuracy_score(y_test, y_pred)\n",
    "accuracy = accuracy_score(testpert_encoded,predictions)\n",
    "print(\"accuracy :\")\n",
    "print(accuracy)\n",
    "# Confusion matrix. \n",
    "# Confusion matrix = confusion_matrix(y_test, y_pred)\n",
    "print(\"Confusion matrix:\")\n",
    "confusion_matrix = confusion_matrix(testpert_encoded,predictions)\n",
    "print(confusion_matrix)\n"
   ]
  },
  {
   "cell_type": "code",
   "execution_count": 39,
   "id": "26b610f0",
   "metadata": {},
   "outputs": [],
   "source": [
    "# Final result. \n",
    "final_result = pd.concat([perturbed_test[['src_ip','Botnet']].copy(),predictions], axis=1)"
   ]
  },
  {
   "cell_type": "code",
   "execution_count": 1,
   "id": "2c7ed734",
   "metadata": {},
   "outputs": [
    {
     "ename": "NameError",
     "evalue": "name 'final_result' is not defined",
     "output_type": "error",
     "traceback": [
      "\u001b[0;31m---------------------------------------------------------------------------\u001b[0m",
      "\u001b[0;31mNameError\u001b[0m                                 Traceback (most recent call last)",
      "\u001b[0;32m/var/folders/3c/0p84rf_94y92bbvwmt4vtjl00000gn/T/ipykernel_96191/409440421.py\u001b[0m in \u001b[0;36m<module>\u001b[0;34m\u001b[0m\n\u001b[0;32m----> 1\u001b[0;31m \u001b[0mfinal_result\u001b[0m\u001b[0;34m.\u001b[0m\u001b[0mhead\u001b[0m\u001b[0;34m(\u001b[0m\u001b[0;36m4\u001b[0m\u001b[0;34m)\u001b[0m\u001b[0;34m\u001b[0m\u001b[0;34m\u001b[0m\u001b[0m\n\u001b[0m",
      "\u001b[0;31mNameError\u001b[0m: name 'final_result' is not defined"
     ]
    }
   ],
   "source": [
    "final_result.head(4)"
   ]
  },
  {
   "cell_type": "code",
   "execution_count": null,
   "id": "57e3d846",
   "metadata": {},
   "outputs": [],
   "source": []
  }
 ],
 "metadata": {
  "kernelspec": {
   "display_name": "Python 3 (ipykernel)",
   "language": "python",
   "name": "python3"
  },
  "language_info": {
   "codemirror_mode": {
    "name": "ipython",
    "version": 3
   },
   "file_extension": ".py",
   "mimetype": "text/x-python",
   "name": "python",
   "nbconvert_exporter": "python",
   "pygments_lexer": "ipython3",
   "version": "3.8.11"
  }
 },
 "nbformat": 4,
 "nbformat_minor": 5
}
