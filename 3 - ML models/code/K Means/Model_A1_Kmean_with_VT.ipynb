{
 "cells": [
  {
   "cell_type": "code",
   "execution_count": 55,
   "id": "4ed7ed09",
   "metadata": {},
   "outputs": [],
   "source": [
    "import pandas as pd\n",
    "from sklearn.cluster import KMeans\n",
    "import matplotlib.pyplot as plt\n",
    "import seaborn as sns"
   ]
  },
  {
   "cell_type": "markdown",
   "id": "8c47694c",
   "metadata": {},
   "source": [
    "This code is submitted as part of project 2 for the subject COMP90037 (Security Analytics) at the University of  Melbourne .\n",
    "     \n",
    "    -------------------------------------------\n",
    "    COMP90037 Security Analytics - Project 2 \n",
    "    Machine learning based Threat detection\n",
    "\n",
    "    Author : Mohammed Ahsan Kollathodi \n",
    "    Student id: 1048942.\n",
    "    "
   ]
  },
  {
   "cell_type": "markdown",
   "id": "b6053e6c",
   "metadata": {},
   "source": [
    "K-means Clustering Algorithm  : \n",
    "---------------------------------------------------------------\n",
    "\n",
    "The K-means clustering is one of the simple and popular unsupervised machine learning algorithms. The Objective of K-Means is very simple which is to group similar data points together and discover the underlying patterns. To acheive this objective, the K-Means would look for a fixed number (k) of clusters in the dataset. \n",
    "\n",
    "A cluster refers to a collection of data points aggregated together because of certain similarities. \n",
    "\n",
    "To process the learning data, the K-means algorithm in data mining starts with a first group of randomly selected centroids, which are used as the beginning points for every cluster, and then performs iterative (repetitive) calculations to optimize the positions of the centroids\n",
    "\n",
    "It halts creating and optimizing clusters when either:\n",
    "\n",
    "- The centroids have stabilized — there is no change in their values because the clustering has been successful.\n",
    "\n",
    "- The defined number of iterations has been achieved.\n",
    "\n",
    "\n",
    "The Feature selection was done primarily after data cleaning through the method of Variance Treshold(VT).The Variance Threshold (VT) is a simple baseline approach for feature selection. It would remove all of the features whose variance doesn't meet some treshold.\n",
    "\n",
    "reference : https://towardsdatascience.com/understanding-k-means-clustering-in-machine-learning-6a6e67336aa1\n"
   ]
  },
  {
   "cell_type": "markdown",
   "id": "986e1cfa",
   "metadata": {},
   "source": [
    "### Train data "
   ]
  },
  {
   "cell_type": "code",
   "execution_count": 56,
   "id": "b0fe18b7",
   "metadata": {},
   "outputs": [],
   "source": [
    "pd_train = pd.read_csv('train_data_VT_A1.csv', sep=',')"
   ]
  },
  {
   "cell_type": "code",
   "execution_count": 57,
   "id": "ddafcd71",
   "metadata": {},
   "outputs": [
    {
     "data": {
      "text/plain": [
       "KMeans(n_clusters=3, random_state=0)"
      ]
     },
     "execution_count": 57,
     "metadata": {},
     "output_type": "execute_result"
    }
   ],
   "source": [
    "# Initialised a K means classifier with 3 number of clusters.\n",
    "\n",
    "K_means = KMeans(n_clusters=3, random_state=0)\n",
    "\n",
    "# Fit the training samples after features\n",
    "\n",
    "K_means.fit(pd_train.values)"
   ]
  },
  {
   "cell_type": "markdown",
   "id": "83d5bd6d",
   "metadata": {},
   "source": [
    "### Test data "
   ]
  },
  {
   "cell_type": "code",
   "execution_count": 58,
   "id": "59968be9",
   "metadata": {},
   "outputs": [],
   "source": [
    "pd_test = pd.read_csv('test_data_VT_A1.csv',  sep=',')\n",
    "\n",
    "pd_test.fillna(0, inplace=True)\n"
   ]
  },
  {
   "cell_type": "code",
   "execution_count": 59,
   "id": "1e87c450",
   "metadata": {},
   "outputs": [],
   "source": [
    "# predict using K means for samples in the test data set trained using the samples in the train set.\n",
    "predict_test = K_means.predict(pd_test)"
   ]
  },
  {
   "cell_type": "code",
   "execution_count": 60,
   "id": "2feac895",
   "metadata": {},
   "outputs": [
    {
     "data": {
      "text/plain": [
       "2    348477\n",
       "Name: cluster, dtype: int64"
      ]
     },
     "execution_count": 60,
     "metadata": {},
     "output_type": "execute_result"
    }
   ],
   "source": [
    "pd_test['cluster'] = predict_test\n",
    "pd_test['cluster'].value_counts()"
   ]
  },
  {
   "cell_type": "code",
   "execution_count": 61,
   "id": "50dfb4f4",
   "metadata": {},
   "outputs": [
    {
     "data": {
      "text/plain": [
       "Index(['num_total_packets', 'duration', 'total_bytes', 'src_bytes',\n",
       "       'packets_in_Sec', 'bytes_total_in_Sec', 'Source_Bytes_Sec', 'protocol',\n",
       "       'src_ip', 'src_port', 'direction', 'dst_ip', 'dst_port', 'state',\n",
       "       'cluster'],\n",
       "      dtype='object')"
      ]
     },
     "execution_count": 61,
     "metadata": {},
     "output_type": "execute_result"
    }
   ],
   "source": [
    "pd_test.columns"
   ]
  },
  {
   "cell_type": "code",
   "execution_count": 66,
   "id": "92e75182",
   "metadata": {},
   "outputs": [],
   "source": [
    "#sns.pairplot(pd_test, hue='cluster')"
   ]
  },
  {
   "cell_type": "code",
   "execution_count": 65,
   "id": "b4e479d0",
   "metadata": {},
   "outputs": [
    {
     "data": {
      "text/plain": [
       "<seaborn.axisgrid.PairGrid at 0x1413d6e50>"
      ]
     },
     "execution_count": 65,
     "metadata": {},
     "output_type": "execute_result"
    },
    {
     "data": {
      "image/png": "[encoded data removed]",
      "text/plain": [
       "<Figure size 582.375x180 with 3 Axes>"
      ]
     },
     "metadata": {
      "needs_background": "light"
     },
     "output_type": "display_data"
    }
   ],
   "source": [
    "sns.pairplot(\n",
    "    pd_test, hue = 'cluster',\n",
    "    y_vars=[\"duration\"],\n",
    "    x_vars=[\"num_total_packets\", \"total_bytes\", \"src_bytes\"],\n",
    ")"
   ]
  },
  {
   "cell_type": "code",
   "execution_count": null,
   "id": "7985d778",
   "metadata": {},
   "outputs": [],
   "source": [
    "pd_test.shape"
   ]
  },
  {
   "cell_type": "code",
   "execution_count": 67,
   "id": "4eeda665",
   "metadata": {},
   "outputs": [],
   "source": [
    "test_original = pd.read_csv('testdata_cleaned.csv', sep=',')"
   ]
  },
  {
   "cell_type": "code",
   "execution_count": 68,
   "id": "47ece830",
   "metadata": {},
   "outputs": [
    {
     "data": {
      "text/plain": [
       "(348477, 17)"
      ]
     },
     "execution_count": 68,
     "metadata": {},
     "output_type": "execute_result"
    }
   ],
   "source": [
    "test_original.shape"
   ]
  },
  {
   "cell_type": "code",
   "execution_count": 69,
   "id": "fa7fe03c",
   "metadata": {},
   "outputs": [],
   "source": [
    "test_original['cluster'] = predict_test"
   ]
  },
  {
   "cell_type": "code",
   "execution_count": 70,
   "id": "4a89cdeb",
   "metadata": {},
   "outputs": [
    {
     "data": {
      "text/html": [
       "<div>\n",
       "<style scoped>\n",
       "    .dataframe tbody tr th:only-of-type {\n",
       "        vertical-align: middle;\n",
       "    }\n",
       "\n",
       "    .dataframe tbody tr th {\n",
       "        vertical-align: top;\n",
       "    }\n",
       "\n",
       "    .dataframe thead th {\n",
       "        text-align: right;\n",
       "    }\n",
       "</style>\n",
       "<table border=\"1\" class=\"dataframe\">\n",
       "  <thead>\n",
       "    <tr style=\"text-align: right;\">\n",
       "      <th></th>\n",
       "      <th>timestamp</th>\n",
       "      <th>duration</th>\n",
       "      <th>protocol</th>\n",
       "      <th>src_ip</th>\n",
       "      <th>src_port</th>\n",
       "      <th>direction</th>\n",
       "      <th>dst_ip</th>\n",
       "      <th>dst_port</th>\n",
       "      <th>state</th>\n",
       "      <th>srctype_service</th>\n",
       "      <th>dsttype_service</th>\n",
       "      <th>num_total_packets</th>\n",
       "      <th>total_bytes</th>\n",
       "      <th>src_bytes</th>\n",
       "      <th>packets_in_Sec</th>\n",
       "      <th>bytes_total_in_Sec</th>\n",
       "      <th>Source_Bytes_Sec</th>\n",
       "      <th>cluster</th>\n",
       "    </tr>\n",
       "  </thead>\n",
       "  <tbody>\n",
       "    <tr>\n",
       "      <th>0</th>\n",
       "      <td>2021-08-15 18:01:29.175156</td>\n",
       "      <td>2752.193853</td>\n",
       "      <td>udp</td>\n",
       "      <td>74.225.127.74</td>\n",
       "      <td>60623</td>\n",
       "      <td>&lt;-&gt;</td>\n",
       "      <td>150.35.87.62</td>\n",
       "      <td>63550</td>\n",
       "      <td>CON</td>\n",
       "      <td>0.0</td>\n",
       "      <td>0.0</td>\n",
       "      <td>3</td>\n",
       "      <td>431</td>\n",
       "      <td>288</td>\n",
       "      <td>0.001090</td>\n",
       "      <td>0.156602</td>\n",
       "      <td>0.104644</td>\n",
       "      <td>2</td>\n",
       "    </tr>\n",
       "    <tr>\n",
       "      <th>1</th>\n",
       "      <td>2021-08-15 18:01:42.659892</td>\n",
       "      <td>1846.957653</td>\n",
       "      <td>udp</td>\n",
       "      <td>81.237.57.248</td>\n",
       "      <td>51413</td>\n",
       "      <td>&lt;-&gt;</td>\n",
       "      <td>150.35.87.62</td>\n",
       "      <td>63549</td>\n",
       "      <td>CON</td>\n",
       "      <td>0.0</td>\n",
       "      <td>0.0</td>\n",
       "      <td>2</td>\n",
       "      <td>421</td>\n",
       "      <td>270</td>\n",
       "      <td>0.001083</td>\n",
       "      <td>0.227942</td>\n",
       "      <td>0.146186</td>\n",
       "      <td>2</td>\n",
       "    </tr>\n",
       "    <tr>\n",
       "      <th>2</th>\n",
       "      <td>2021-08-15 18:01:44.669650</td>\n",
       "      <td>2079.032483</td>\n",
       "      <td>udp</td>\n",
       "      <td>34.150.123.142</td>\n",
       "      <td>63197</td>\n",
       "      <td>&lt;-&gt;</td>\n",
       "      <td>150.35.87.62</td>\n",
       "      <td>63549</td>\n",
       "      <td>CON</td>\n",
       "      <td>0.0</td>\n",
       "      <td>0.0</td>\n",
       "      <td>1</td>\n",
       "      <td>290</td>\n",
       "      <td>145</td>\n",
       "      <td>0.000481</td>\n",
       "      <td>0.139488</td>\n",
       "      <td>0.069744</td>\n",
       "      <td>2</td>\n",
       "    </tr>\n",
       "    <tr>\n",
       "      <th>3</th>\n",
       "      <td>2021-08-15 18:15:52.811230</td>\n",
       "      <td>1533.286882</td>\n",
       "      <td>udp</td>\n",
       "      <td>121.8.38.67</td>\n",
       "      <td>39112</td>\n",
       "      <td>&lt;-&gt;</td>\n",
       "      <td>150.35.87.62</td>\n",
       "      <td>63552</td>\n",
       "      <td>CON</td>\n",
       "      <td>0.0</td>\n",
       "      <td>0.0</td>\n",
       "      <td>2</td>\n",
       "      <td>289</td>\n",
       "      <td>145</td>\n",
       "      <td>0.001304</td>\n",
       "      <td>0.188484</td>\n",
       "      <td>0.094568</td>\n",
       "      <td>2</td>\n",
       "    </tr>\n",
       "    <tr>\n",
       "      <th>4</th>\n",
       "      <td>2021-08-15 18:24:13.357670</td>\n",
       "      <td>71.863629</td>\n",
       "      <td>udp</td>\n",
       "      <td>85.42.5.252</td>\n",
       "      <td>41912</td>\n",
       "      <td>&lt;-&gt;</td>\n",
       "      <td>150.35.87.62</td>\n",
       "      <td>43085</td>\n",
       "      <td>CON</td>\n",
       "      <td>0.0</td>\n",
       "      <td>0.0</td>\n",
       "      <td>23753</td>\n",
       "      <td>24213065</td>\n",
       "      <td>507942</td>\n",
       "      <td>330.528814</td>\n",
       "      <td>336930.731094</td>\n",
       "      <td>7068.137364</td>\n",
       "      <td>2</td>\n",
       "    </tr>\n",
       "  </tbody>\n",
       "</table>\n",
       "</div>"
      ],
      "text/plain": [
       "                    timestamp     duration protocol          src_ip  src_port  \\\n",
       "0  2021-08-15 18:01:29.175156  2752.193853      udp   74.225.127.74     60623   \n",
       "1  2021-08-15 18:01:42.659892  1846.957653      udp   81.237.57.248     51413   \n",
       "2  2021-08-15 18:01:44.669650  2079.032483      udp  34.150.123.142     63197   \n",
       "3  2021-08-15 18:15:52.811230  1533.286882      udp     121.8.38.67     39112   \n",
       "4  2021-08-15 18:24:13.357670    71.863629      udp     85.42.5.252     41912   \n",
       "\n",
       "  direction        dst_ip  dst_port state  srctype_service  dsttype_service  \\\n",
       "0       <->  150.35.87.62     63550   CON              0.0              0.0   \n",
       "1       <->  150.35.87.62     63549   CON              0.0              0.0   \n",
       "2       <->  150.35.87.62     63549   CON              0.0              0.0   \n",
       "3       <->  150.35.87.62     63552   CON              0.0              0.0   \n",
       "4       <->  150.35.87.62     43085   CON              0.0              0.0   \n",
       "\n",
       "   num_total_packets  total_bytes  src_bytes  packets_in_Sec  \\\n",
       "0                  3          431        288        0.001090   \n",
       "1                  2          421        270        0.001083   \n",
       "2                  1          290        145        0.000481   \n",
       "3                  2          289        145        0.001304   \n",
       "4              23753     24213065     507942      330.528814   \n",
       "\n",
       "   bytes_total_in_Sec  Source_Bytes_Sec  cluster  \n",
       "0            0.156602          0.104644        2  \n",
       "1            0.227942          0.146186        2  \n",
       "2            0.139488          0.069744        2  \n",
       "3            0.188484          0.094568        2  \n",
       "4       336930.731094       7068.137364        2  "
      ]
     },
     "execution_count": 70,
     "metadata": {},
     "output_type": "execute_result"
    }
   ],
   "source": [
    "test_original.head()"
   ]
  },
  {
   "cell_type": "code",
   "execution_count": 71,
   "id": "a5cb9883",
   "metadata": {},
   "outputs": [],
   "source": [
    "original_feat_anomalies = test_original.loc[test_original['cluster'].isin([1,2])]"
   ]
  },
  {
   "cell_type": "code",
   "execution_count": 72,
   "id": "ba298538",
   "metadata": {},
   "outputs": [
    {
     "data": {
      "text/plain": [
       "2    348477\n",
       "Name: cluster, dtype: int64"
      ]
     },
     "execution_count": 72,
     "metadata": {},
     "output_type": "execute_result"
    }
   ],
   "source": [
    "original_feat_anomalies['cluster'].value_counts() # Cluster corresponding to the number of anomalies in the sample. "
   ]
  },
  {
   "cell_type": "code",
   "execution_count": 74,
   "id": "578e8618",
   "metadata": {},
   "outputs": [
    {
     "data": {
      "text/plain": [
       "207030"
      ]
     },
     "execution_count": 74,
     "metadata": {},
     "output_type": "execute_result"
    }
   ],
   "source": [
    "# number of unique source ip address in the dataset \n",
    "original_feat_anomalies['src_ip'].nunique()"
   ]
  },
  {
   "cell_type": "code",
   "execution_count": 75,
   "id": "3a7fc9cf",
   "metadata": {},
   "outputs": [
    {
     "data": {
      "text/html": [
       "<div>\n",
       "<style scoped>\n",
       "    .dataframe tbody tr th:only-of-type {\n",
       "        vertical-align: middle;\n",
       "    }\n",
       "\n",
       "    .dataframe tbody tr th {\n",
       "        vertical-align: top;\n",
       "    }\n",
       "\n",
       "    .dataframe thead th {\n",
       "        text-align: right;\n",
       "    }\n",
       "</style>\n",
       "<table border=\"1\" class=\"dataframe\">\n",
       "  <thead>\n",
       "    <tr style=\"text-align: right;\">\n",
       "      <th></th>\n",
       "      <th>duration</th>\n",
       "      <th>src_port</th>\n",
       "      <th>dst_port</th>\n",
       "      <th>srctype_service</th>\n",
       "      <th>dsttype_service</th>\n",
       "      <th>num_total_packets</th>\n",
       "      <th>total_bytes</th>\n",
       "      <th>src_bytes</th>\n",
       "      <th>packets_in_Sec</th>\n",
       "      <th>bytes_total_in_Sec</th>\n",
       "      <th>Source_Bytes_Sec</th>\n",
       "      <th>cluster</th>\n",
       "    </tr>\n",
       "  </thead>\n",
       "  <tbody>\n",
       "    <tr>\n",
       "      <th>count</th>\n",
       "      <td>330963</td>\n",
       "      <td>330963</td>\n",
       "      <td>330963</td>\n",
       "      <td>330929</td>\n",
       "      <td>291215</td>\n",
       "      <td>330963</td>\n",
       "      <td>330963</td>\n",
       "      <td>330963</td>\n",
       "      <td>313538</td>\n",
       "      <td>330963</td>\n",
       "      <td>330957</td>\n",
       "      <td>330963</td>\n",
       "    </tr>\n",
       "    <tr>\n",
       "      <th>mean</th>\n",
       "      <td>542.472</td>\n",
       "      <td>32278.6</td>\n",
       "      <td>22253.9</td>\n",
       "      <td>0.00481674</td>\n",
       "      <td>0.000109884</td>\n",
       "      <td>40.3886</td>\n",
       "      <td>25737.7</td>\n",
       "      <td>9775.63</td>\n",
       "      <td>1199.15</td>\n",
       "      <td>inf</td>\n",
       "      <td>inf</td>\n",
       "      <td>2</td>\n",
       "    </tr>\n",
       "    <tr>\n",
       "      <th>std</th>\n",
       "      <td>1067.47</td>\n",
       "      <td>19836.6</td>\n",
       "      <td>2.09493e+06</td>\n",
       "      <td>0.112634</td>\n",
       "      <td>0.0179659</td>\n",
       "      <td>3893.67</td>\n",
       "      <td>2.80977e+06</td>\n",
       "      <td>923503</td>\n",
       "      <td>5290.4</td>\n",
       "      <td>nan</td>\n",
       "      <td>nan</td>\n",
       "      <td>0</td>\n",
       "    </tr>\n",
       "    <tr>\n",
       "      <th>min</th>\n",
       "      <td>0</td>\n",
       "      <td>0</td>\n",
       "      <td>0</td>\n",
       "      <td>0</td>\n",
       "      <td>0</td>\n",
       "      <td>0</td>\n",
       "      <td>59</td>\n",
       "      <td>0</td>\n",
       "      <td>0</td>\n",
       "      <td>0.0404022</td>\n",
       "      <td>0</td>\n",
       "      <td>2</td>\n",
       "    </tr>\n",
       "    <tr>\n",
       "      <th>25%</th>\n",
       "      <td>0.000732101</td>\n",
       "      <td>14375.5</td>\n",
       "      <td>13360</td>\n",
       "      <td>0</td>\n",
       "      <td>0</td>\n",
       "      <td>1</td>\n",
       "      <td>138</td>\n",
       "      <td>74</td>\n",
       "      <td>0.0209766</td>\n",
       "      <td>9.97618</td>\n",
       "      <td>5.57385</td>\n",
       "      <td>2</td>\n",
       "    </tr>\n",
       "    <tr>\n",
       "      <th>50%</th>\n",
       "      <td>0.001299</td>\n",
       "      <td>32238</td>\n",
       "      <td>13362</td>\n",
       "      <td>0</td>\n",
       "      <td>0</td>\n",
       "      <td>2</td>\n",
       "      <td>401</td>\n",
       "      <td>146</td>\n",
       "      <td>697.452</td>\n",
       "      <td>157614</td>\n",
       "      <td>75092.5</td>\n",
       "      <td>2</td>\n",
       "    </tr>\n",
       "    <tr>\n",
       "      <th>75%</th>\n",
       "      <td>188.978</td>\n",
       "      <td>50329</td>\n",
       "      <td>13365</td>\n",
       "      <td>0</td>\n",
       "      <td>0</td>\n",
       "      <td>4</td>\n",
       "      <td>928</td>\n",
       "      <td>471</td>\n",
       "      <td>1729.43</td>\n",
       "      <td>318343</td>\n",
       "      <td>109948</td>\n",
       "      <td>2</td>\n",
       "    </tr>\n",
       "    <tr>\n",
       "      <th>max</th>\n",
       "      <td>3649.84</td>\n",
       "      <td>65537</td>\n",
       "      <td>5.39024e+08</td>\n",
       "      <td>3</td>\n",
       "      <td>3</td>\n",
       "      <td>1.4842e+06</td>\n",
       "      <td>1.06155e+09</td>\n",
       "      <td>2.638e+08</td>\n",
       "      <td>1.0015e+06</td>\n",
       "      <td>inf</td>\n",
       "      <td>inf</td>\n",
       "      <td>2</td>\n",
       "    </tr>\n",
       "  </tbody>\n",
       "</table>\n",
       "</div>"
      ],
      "text/plain": [
       "          duration src_port     dst_port srctype_service dsttype_service  \\\n",
       "count       330963   330963       330963          330929          291215   \n",
       "mean       542.472  32278.6      22253.9      0.00481674     0.000109884   \n",
       "std        1067.47  19836.6  2.09493e+06        0.112634       0.0179659   \n",
       "min              0        0            0               0               0   \n",
       "25%    0.000732101  14375.5        13360               0               0   \n",
       "50%       0.001299    32238        13362               0               0   \n",
       "75%        188.978    50329        13365               0               0   \n",
       "max        3649.84    65537  5.39024e+08               3               3   \n",
       "\n",
       "      num_total_packets  total_bytes  src_bytes packets_in_Sec  \\\n",
       "count            330963       330963     330963         313538   \n",
       "mean            40.3886      25737.7    9775.63        1199.15   \n",
       "std             3893.67  2.80977e+06     923503         5290.4   \n",
       "min                   0           59          0              0   \n",
       "25%                   1          138         74      0.0209766   \n",
       "50%                   2          401        146        697.452   \n",
       "75%                   4          928        471        1729.43   \n",
       "max          1.4842e+06  1.06155e+09  2.638e+08     1.0015e+06   \n",
       "\n",
       "      bytes_total_in_Sec Source_Bytes_Sec cluster  \n",
       "count             330963           330957  330963  \n",
       "mean                 inf              inf       2  \n",
       "std                  nan              nan       0  \n",
       "min            0.0404022                0       2  \n",
       "25%              9.97618          5.57385       2  \n",
       "50%               157614          75092.5       2  \n",
       "75%               318343           109948       2  \n",
       "max                  inf              inf       2  "
      ]
     },
     "execution_count": 75,
     "metadata": {},
     "output_type": "execute_result"
    }
   ],
   "source": [
    "import numpy as np\n",
    "original_feat_anomalies.loc[original_feat_anomalies['packets_in_Sec'] != np.inf].describe().apply(lambda s: s.apply(lambda x: format(x, 'g')))"
   ]
  },
  {
   "cell_type": "code",
   "execution_count": 77,
   "id": "f4159d4b",
   "metadata": {},
   "outputs": [],
   "source": [
    "# save as CSV .\n",
    "original_feat_anomalies.to_csv('test_A1_KMean_VT_orig_feat.csv', sep=',')"
   ]
  },
  {
   "cell_type": "code",
   "execution_count": null,
   "id": "34d89a6c",
   "metadata": {},
   "outputs": [],
   "source": []
  }
 ],
 "metadata": {
  "kernelspec": {
   "display_name": "Python 3 (ipykernel)",
   "language": "python",
   "name": "python3"
  },
  "language_info": {
   "codemirror_mode": {
    "name": "ipython",
    "version": 3
   },
   "file_extension": ".py",
   "mimetype": "text/x-python",
   "name": "python",
   "nbconvert_exporter": "python",
   "pygments_lexer": "ipython3",
   "version": "3.8.11"
  }
 },
 "nbformat": 4,
 "nbformat_minor": 5
}
